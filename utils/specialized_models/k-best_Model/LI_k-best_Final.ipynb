{
 "cells": [
  {
   "cell_type": "markdown",
   "metadata": {
    "tags": []
   },
   "source": [
    "### Setting environment and dataset files\n",
    "<a id='load_data'></a>"
   ]
  },
  {
   "cell_type": "code",
   "execution_count": 1,
   "metadata": {},
   "outputs": [],
   "source": [
    "from os import environ\n",
    "environ['train_device'] = 'cuda:4' # training device: 'cpu' or 'cuda:X'\n",
    "environ['store_device'] = 'cuda:4' # Data storing device:  'cpu' or 'cuda:X'\n",
    "\n",
    "# dataset_file_MC = '/data/lm4718/datasets/dataset_multicomp_fusion_train_val+batch375001-499939.pkl'\n",
    "dataset_file_MC = '/data/lm4718/datasets/dataset_multicomp_fusion_train_val+batch375001-499939+batch191004-288757.pkl'\n",
    "test_dataset_file_MC = '/data/kk4796/datasets/dataset_multicomp_fusion_test.pkl'\n",
    "benchmark_dataset_file_MC ='/data/mm12191/datasets/benchmarks_ds2.json' \n",
    "\n",
    "train_val_dataset_file_SC = '/data/kk4796/datasets/dataset_singlecomp_13M115_train_val.pkl'\n",
    "test_dataset_file_SC = '/data/kk4796/datasets/dataset_singlecomp_13M115_test.pkl'\n",
    "\n",
    "\n",
    "%run utils_k-best.py # imports and defines some utils functions"
   ]
  },
  {
   "cell_type": "markdown",
   "metadata": {},
   "source": [
    "### Load Data\n",
    "<a id='load_data'></a>"
   ]
  },
  {
   "cell_type": "code",
   "execution_count": 2,
   "metadata": {
    "tags": []
   },
   "outputs": [
    {
     "name": "stderr",
     "output_type": "stream",
     "text": [
      "100%|██████████| 196/196 [00:04<00:00, 44.86it/s]\n",
      "100%|██████████| 14607/14607 [00:18<00:00, 781.11it/s] "
     ]
    },
    {
     "name": "stdout",
     "output_type": "stream",
     "text": [
      "Number of batches 22\n",
      "Number of batches dropped due to too much memory accesses:642\n",
      "Data loaded\n",
      "Sizes: (22, 0) batches\n"
     ]
    },
    {
     "name": "stderr",
     "output_type": "stream",
     "text": [
      "\n"
     ]
    }
   ],
   "source": [
    "#Loading the test dataset\n",
    "%run utils_k-best.py # imports and defines some utils functions\n",
    "test_dataset, test_bl, test_indices, _, _ = load_merge_data(test_dataset_file_MC, test_dataset_file_SC, 1, filter_func_MC=filter_schedule_MC, filter_func_SC=filter_schedule_SC)"
   ]
  },
  {
   "cell_type": "code",
   "execution_count": 3,
   "metadata": {
    "tags": []
   },
   "outputs": [
    {
     "name": "stderr",
     "output_type": "stream",
     "text": [
      " 16%|█▌        | 9734/62650 [00:07<00:38, 1364.81it/s]"
     ]
    },
    {
     "name": "stdout",
     "output_type": "stream",
     "text": [
      "F({C0,C1},L3) function396019\n"
     ]
    },
    {
     "name": "stderr",
     "output_type": "stream",
     "text": [
      " 46%|████▌     | 28694/62650 [00:21<00:26, 1276.08it/s]"
     ]
    },
    {
     "name": "stdout",
     "output_type": "stream",
     "text": [
      "F({C0,C1},L5) function191127\n"
     ]
    },
    {
     "name": "stderr",
     "output_type": "stream",
     "text": [
      " 46%|████▋     | 29076/62650 [00:22<00:27, 1237.04it/s]"
     ]
    },
    {
     "name": "stdout",
     "output_type": "stream",
     "text": [
      "F({C0,C1},L5) function191589\n"
     ]
    },
    {
     "name": "stderr",
     "output_type": "stream",
     "text": [
      " 49%|████▉     | 30681/62650 [00:23<00:26, 1221.30it/s]"
     ]
    },
    {
     "name": "stdout",
     "output_type": "stream",
     "text": [
      "F({C0,C1},L4) function193529\n"
     ]
    },
    {
     "name": "stderr",
     "output_type": "stream",
     "text": [
      " 51%|█████     | 32031/62650 [00:24<00:25, 1217.62it/s]"
     ]
    },
    {
     "name": "stdout",
     "output_type": "stream",
     "text": [
      "F({C1,C2},L4) function195247\n"
     ]
    },
    {
     "name": "stderr",
     "output_type": "stream",
     "text": [
      " 53%|█████▎    | 33012/62650 [00:25<00:24, 1214.71it/s]"
     ]
    },
    {
     "name": "stdout",
     "output_type": "stream",
     "text": [
      "F({C1,C2},L4) function196553\n"
     ]
    },
    {
     "name": "stderr",
     "output_type": "stream",
     "text": [
      " 53%|█████▎    | 33379/62650 [00:25<00:24, 1211.44it/s]"
     ]
    },
    {
     "name": "stdout",
     "output_type": "stream",
     "text": [
      "F({C0,C1},L4) function196873\n"
     ]
    },
    {
     "name": "stderr",
     "output_type": "stream",
     "text": [
      " 55%|█████▍    | 34248/62650 [00:26<00:23, 1218.93it/s]"
     ]
    },
    {
     "name": "stdout",
     "output_type": "stream",
     "text": [
      "F({C0,C1},L4) function198051\n"
     ]
    },
    {
     "name": "stderr",
     "output_type": "stream",
     "text": [
      " 58%|█████▊    | 36340/62650 [00:28<00:21, 1216.03it/s]"
     ]
    },
    {
     "name": "stdout",
     "output_type": "stream",
     "text": [
      "F({C0,C1},L4) function200647\n",
      "F({C0,C1},L4) function200902\n"
     ]
    },
    {
     "name": "stderr",
     "output_type": "stream",
     "text": [
      " 59%|█████▊    | 36705/62650 [00:28<00:21, 1206.19it/s]"
     ]
    },
    {
     "name": "stdout",
     "output_type": "stream",
     "text": [
      "F({C0,C1},L5) function201020\n"
     ]
    },
    {
     "name": "stderr",
     "output_type": "stream",
     "text": [
      " 59%|█████▉    | 37199/62650 [00:28<00:20, 1217.07it/s]"
     ]
    },
    {
     "name": "stdout",
     "output_type": "stream",
     "text": [
      "F({C0,C1},L5) function201660\n",
      "F({C1,C2},L4) function201818\n",
      "F({C0,C1},L4) function201920\n"
     ]
    },
    {
     "name": "stderr",
     "output_type": "stream",
     "text": [
      " 60%|██████    | 37688/62650 [00:29<00:20, 1208.73it/s]"
     ]
    },
    {
     "name": "stdout",
     "output_type": "stream",
     "text": [
      "F({C0,C1},L5) function202224\n"
     ]
    },
    {
     "name": "stderr",
     "output_type": "stream",
     "text": [
      " 62%|██████▏   | 38797/62650 [00:30<00:19, 1205.86it/s]"
     ]
    },
    {
     "name": "stdout",
     "output_type": "stream",
     "text": [
      "F({C0,C1},L4) function203706\n",
      "F({C1,C2},L4) function203768\n"
     ]
    },
    {
     "name": "stderr",
     "output_type": "stream",
     "text": [
      " 63%|██████▎   | 39166/62650 [00:30<00:19, 1214.03it/s]"
     ]
    },
    {
     "name": "stdout",
     "output_type": "stream",
     "text": [
      "F({C0,C1},L4) function204062\n"
     ]
    },
    {
     "name": "stderr",
     "output_type": "stream",
     "text": [
      " 65%|██████▌   | 40781/62650 [00:31<00:17, 1226.86it/s]"
     ]
    },
    {
     "name": "stdout",
     "output_type": "stream",
     "text": [
      "F({C0,C1},L4) function206051\n"
     ]
    },
    {
     "name": "stderr",
     "output_type": "stream",
     "text": [
      " 66%|██████▋   | 41644/62650 [00:32<00:17, 1220.69it/s]"
     ]
    },
    {
     "name": "stdout",
     "output_type": "stream",
     "text": [
      "F({C0,C1},L4) function207152\n"
     ]
    },
    {
     "name": "stderr",
     "output_type": "stream",
     "text": [
      " 67%|██████▋   | 42134/62650 [00:32<00:16, 1209.93it/s]"
     ]
    },
    {
     "name": "stdout",
     "output_type": "stream",
     "text": [
      "F({C0,C1},L4) function207727\n"
     ]
    },
    {
     "name": "stderr",
     "output_type": "stream",
     "text": [
      " 68%|██████▊   | 42498/62650 [00:33<00:16, 1195.73it/s]"
     ]
    },
    {
     "name": "stdout",
     "output_type": "stream",
     "text": [
      "F({C0,C1},L5) function208337\n"
     ]
    },
    {
     "name": "stderr",
     "output_type": "stream",
     "text": [
      " 70%|██████▉   | 43726/62650 [00:34<00:15, 1202.85it/s]"
     ]
    },
    {
     "name": "stdout",
     "output_type": "stream",
     "text": [
      "F({C0,C1},L4) function209757\n"
     ]
    },
    {
     "name": "stderr",
     "output_type": "stream",
     "text": [
      " 70%|███████   | 44093/62650 [00:34<00:15, 1204.71it/s]"
     ]
    },
    {
     "name": "stdout",
     "output_type": "stream",
     "text": [
      "F({C0,C1},L4) function210271\n"
     ]
    },
    {
     "name": "stderr",
     "output_type": "stream",
     "text": [
      " 71%|███████   | 44585/62650 [00:35<00:14, 1208.32it/s]"
     ]
    },
    {
     "name": "stdout",
     "output_type": "stream",
     "text": [
      "F({C0,C1},L5) function210891\n"
     ]
    },
    {
     "name": "stderr",
     "output_type": "stream",
     "text": [
      " 72%|███████▏  | 45192/62650 [00:35<00:14, 1208.22it/s]"
     ]
    },
    {
     "name": "stdout",
     "output_type": "stream",
     "text": [
      "F({C0,C1},L4) function211561\n"
     ]
    },
    {
     "name": "stderr",
     "output_type": "stream",
     "text": [
      " 73%|███████▎  | 45436/62650 [00:35<00:14, 1200.35it/s]"
     ]
    },
    {
     "name": "stdout",
     "output_type": "stream",
     "text": [
      "F({C1,C2},L4) function211994\n"
     ]
    },
    {
     "name": "stderr",
     "output_type": "stream",
     "text": [
      " 73%|███████▎  | 45922/62650 [00:36<00:13, 1198.83it/s]"
     ]
    },
    {
     "name": "stdout",
     "output_type": "stream",
     "text": [
      "F({C1,C2},L4) function212510\n",
      "F({C0,C1},L4) function212650\n"
     ]
    },
    {
     "name": "stderr",
     "output_type": "stream",
     "text": [
      " 75%|███████▌  | 47136/62650 [00:37<00:12, 1203.19it/s]"
     ]
    },
    {
     "name": "stdout",
     "output_type": "stream",
     "text": [
      "F({C1,C2},L4) function214024\n"
     ]
    },
    {
     "name": "stderr",
     "output_type": "stream",
     "text": [
      " 76%|███████▋  | 47871/62650 [00:37<00:12, 1214.28it/s]"
     ]
    },
    {
     "name": "stdout",
     "output_type": "stream",
     "text": [
      "F({C1,C2},L4) function215061\n"
     ]
    },
    {
     "name": "stderr",
     "output_type": "stream",
     "text": [
      " 78%|███████▊  | 48603/62650 [00:38<00:11, 1176.75it/s]"
     ]
    },
    {
     "name": "stdout",
     "output_type": "stream",
     "text": [
      "F({C1,C2},L4) function215978\n"
     ]
    },
    {
     "name": "stderr",
     "output_type": "stream",
     "text": [
      " 78%|███████▊  | 48969/62650 [00:38<00:11, 1189.79it/s]"
     ]
    },
    {
     "name": "stdout",
     "output_type": "stream",
     "text": [
      "F({C1,C2},L4) function216462\n"
     ]
    },
    {
     "name": "stderr",
     "output_type": "stream",
     "text": [
      " 79%|███████▉  | 49458/62650 [00:39<00:10, 1204.24it/s]"
     ]
    },
    {
     "name": "stdout",
     "output_type": "stream",
     "text": [
      "F({C0,C1},L5) function217102\n"
     ]
    },
    {
     "name": "stderr",
     "output_type": "stream",
     "text": [
      " 80%|███████▉  | 50066/62650 [00:39<00:10, 1196.69it/s]"
     ]
    },
    {
     "name": "stdout",
     "output_type": "stream",
     "text": [
      "F({C0,C1},L4) function217785\n",
      "F({C0,C1},L4) function217900\n"
     ]
    },
    {
     "name": "stderr",
     "output_type": "stream",
     "text": [
      " 80%|████████  | 50310/62650 [00:39<00:10, 1205.49it/s]"
     ]
    },
    {
     "name": "stdout",
     "output_type": "stream",
     "text": [
      "F({C0,C1},L3) function218093\n"
     ]
    },
    {
     "name": "stderr",
     "output_type": "stream",
     "text": [
      " 81%|████████  | 50799/62650 [00:40<00:09, 1205.73it/s]"
     ]
    },
    {
     "name": "stdout",
     "output_type": "stream",
     "text": [
      "F({C0,C1},L4) function218687\n",
      "F({C0,C1},L4) function218843\n"
     ]
    },
    {
     "name": "stderr",
     "output_type": "stream",
     "text": [
      " 81%|████████▏ | 51045/62650 [00:40<00:09, 1206.79it/s]"
     ]
    },
    {
     "name": "stdout",
     "output_type": "stream",
     "text": [
      "F({C0,C1},L4) function218994\n",
      "F({C0,C1},L3) function219209\n"
     ]
    },
    {
     "name": "stderr",
     "output_type": "stream",
     "text": [
      " 82%|████████▏ | 51408/62650 [00:40<00:09, 1195.06it/s]"
     ]
    },
    {
     "name": "stdout",
     "output_type": "stream",
     "text": [
      "F({C0,C1},L5) function219597\n",
      "F({C0,C1},L5) function219716\n"
     ]
    },
    {
     "name": "stderr",
     "output_type": "stream",
     "text": [
      " 85%|████████▌ | 53494/62650 [00:42<00:07, 1220.88it/s]"
     ]
    },
    {
     "name": "stdout",
     "output_type": "stream",
     "text": [
      "F({C0,C1},L4) function222162\n"
     ]
    },
    {
     "name": "stderr",
     "output_type": "stream",
     "text": [
      " 86%|████████▌ | 53861/62650 [00:42<00:07, 1204.51it/s]"
     ]
    },
    {
     "name": "stdout",
     "output_type": "stream",
     "text": [
      "F({C0,C1},L4) function222739\n"
     ]
    },
    {
     "name": "stderr",
     "output_type": "stream",
     "text": [
      "100%|██████████| 62650/62650 [00:49<00:00, 1267.45it/s]\n",
      "100%|██████████| 131466/131466 [03:15<00:00, 672.38it/s] \n"
     ]
    },
    {
     "name": "stdout",
     "output_type": "stream",
     "text": [
      "Number of batches 457\n",
      "Number of batches dropped due to too much memory accesses:8833\n",
      "Data loaded\n",
      "Sizes: (91, 366) batches\n"
     ]
    }
   ],
   "source": [
    "#Loading the train/val dataset\n",
    "train_val_dataset, val_bl, val_indices, train_bl, train_indices = load_merge_data(dataset_file_MC, train_val_dataset_file_SC, 0.2, max_batch_size=832, filter_func_MC=filter_schedule_MC, filter_func_SC=filter_schedule_SC)"
   ]
  },
  {
   "cell_type": "code",
   "execution_count": 4,
   "metadata": {
    "tags": []
   },
   "outputs": [
    {
     "data": {
      "text/plain": [
       "457"
      ]
     },
     "execution_count": 4,
     "metadata": {},
     "output_type": "execute_result"
    }
   ],
   "source": [
    "#total batches number\n",
    "len(train_val_dataset.X)\n",
    "#356"
   ]
  },
  {
   "cell_type": "code",
   "execution_count": 5,
   "metadata": {},
   "outputs": [
    {
     "name": "stdout",
     "output_type": "stream",
     "text": [
      "torch.Size([54, 2, 970]) <BL0<BL1<BL2[CI0CI1]EL2>EL1>EL0>\n",
      "torch.Size([28, 2, 970]) <BL0<BL1<BL2[CI0]EL2><BL3[CI1]EL3>EL1>EL0>\n",
      "torch.Size([4, 2, 970]) <BL0<BL1<BL2<BL3[CI0]EL3><BL4[CI1]EL4>EL2>EL1>EL0>\n",
      "torch.Size([83, 2, 970]) <BL0<BL1[CI0CI1]EL1>EL0>\n",
      "torch.Size([5, 2, 970]) <BL0<BL1<BL2<BL3[CI0]EL3>EL2><BL4[CI1]EL4>EL1>EL0>\n",
      "torch.Size([1, 2, 970]) <BL0<BL1<BL2<BL3[CI0]EL3><BL4<BL5[CI1]EL5>EL4>EL2>EL1>EL0>\n",
      "torch.Size([3, 2, 970]) <BL0<BL1<BL2<BL3[CI0CI1]EL3>EL2>EL1>EL0>\n",
      "torch.Size([7, 2, 970]) <BL0<BL1<BL2[CI0]EL2><BL3<BL4[CI1]EL4>EL3>EL1>EL0>\n",
      "torch.Size([1, 2, 970]) <BL0<BL1<BL2<BL3<BL4[CI0CI1]EL4>EL3>EL2>EL1>EL0>\n",
      "torch.Size([1, 2, 970]) <BL0<BL1<BL2<BL3<BL4[CI0]EL4>EL3><BL5[CI1]EL5>EL2>EL1>EL0>\n",
      "torch.Size([1, 2, 970]) <BL0<BL1<BL2<BL3<BL4[CI0]EL4>EL3>EL2><BL5[CI1]EL5>EL1>EL0>\n",
      "torch.Size([1, 2, 970]) <BL0<BL1<BL2<BL3[CI0]EL3>EL2><BL4<BL5<BL6[CI1]EL6>EL5>EL4>EL1>EL0>\n",
      "torch.Size([2048, 1, 970]) <BL0<BL1<BL2[CI0]EL2>EL1>EL0>\n",
      "torch.Size([2048, 1, 970]) <BL0<BL1<BL2[CI0]EL2>EL1>EL0>\n",
      "torch.Size([2048, 1, 970]) <BL0<BL1<BL2[CI0]EL2>EL1>EL0>\n",
      "torch.Size([2048, 1, 970]) <BL0<BL1<BL2[CI0]EL2>EL1>EL0>\n",
      "torch.Size([1878, 1, 970]) <BL0<BL1<BL2[CI0]EL2>EL1>EL0>\n",
      "torch.Size([1406, 1, 970]) <BL0<BL1<BL2<BL3[CI0]EL3>EL2>EL1>EL0>\n",
      "torch.Size([2048, 1, 970]) <BL0<BL1[CI0]EL1>EL0>\n",
      "torch.Size([304, 1, 970]) <BL0<BL1[CI0]EL1>EL0>\n",
      "torch.Size([139, 1, 970]) <BL0<BL1<BL2<BL3<BL4[CI0]EL4>EL3>EL2>EL1>EL0>\n",
      "torch.Size([5, 1, 970]) <BL0<BL1<BL2<BL3<BL4<BL5[CI0]EL5>EL4>EL3>EL2>EL1>EL0>\n"
     ]
    }
   ],
   "source": [
    "#batches sizes and tree structure\n",
    "for i in range(len(test_dataset.X)):\n",
    "    print(test_dataset.X[i][1].size(), get_tree_footprint(test_dataset.X[i][0]) )  \n",
    "    #format of first output: batch size, number of computations, size of each comps vector"
   ]
  },
  {
   "cell_type": "markdown",
   "metadata": {},
   "source": [
    "### Define Model"
   ]
  },
  {
   "cell_type": "code",
   "execution_count": 25,
   "metadata": {},
   "outputs": [],
   "source": [
    "# %run utils_k-best.py\n",
    "\n",
    "# input_size = 1272\n",
    "input_size = 970 #Before adding fusion, it was: 963\n",
    "\n",
    "model = None \n",
    "\n",
    "model = Model_Recursive_LSTM_v2(input_size,comp_embed_layer_sizes=[600, 900, 600, 400, 200], drops=[0.275, 0.4, 0.275, 0.175, 0.175], output_size=one_output * 5)\n",
    "\n",
    "model.to(train_device) \n",
    "\n",
    "criterion = nn.CrossEntropyLoss()\n",
    "\n",
    "optimizer = AdamW(model.parameters(),weight_decay=0.375e-2)  #0.375e-2\n",
    "# optimizer = optim.RMSprop(model.parameters(), weight_decay=0.3e-2) # Other tested optimizer\n"
   ]
  },
  {
   "cell_type": "markdown",
   "metadata": {},
   "source": [
    "### Train"
   ]
  },
  {
   "cell_type": "code",
   "execution_count": 34,
   "metadata": {
    "scrolled": true,
    "tags": []
   },
   "outputs": [
    {
     "name": "stdout",
     "output_type": "stream",
     "text": [
      "Epoch 1/500:  train Loss: 272.4278   val Loss: 266.1727   time: 3.96s   best: 266.1727\n",
      "Epoch 2/500:  train Loss: 270.7854   val Loss: 265.7120   time: 3.96s   best: 265.7120\n",
      "Epoch 3/500:  train Loss: 271.3999   val Loss: 267.0474   time: 3.96s   best: 265.7120\n",
      "Epoch 4/500:  train Loss: 271.5244   val Loss: 265.5790   time: 3.97s   best: 265.5790\n",
      "Epoch 5/500:  train Loss: 272.1784   val Loss: 268.5279   time: 3.97s   best: 265.5790\n",
      "Epoch 6/500:  train Loss: 271.0595   val Loss: 266.2275   time: 3.97s   best: 265.5790\n",
      "Epoch 7/500:  train Loss: 274.1678   val Loss: 266.9583   time: 3.97s   best: 265.5790\n",
      "Epoch 8/500:  train Loss: 271.1928   val Loss: 267.0074   time: 4.03s   best: 265.5790\n",
      "Epoch 9/500:  train Loss: 271.6989   val Loss: 266.9711   time: 4.13s   best: 265.5790\n",
      "Epoch 10/500:  train Loss: 273.5782   val Loss: 267.5128   time: 3.97s   best: 265.5790\n",
      "Epoch 11/500:  train Loss: 270.6140   val Loss: 266.3777   time: 3.97s   best: 265.5790\n",
      "Epoch 12/500:  train Loss: 270.2995   val Loss: 267.0115   time: 3.97s   best: 265.5790\n",
      "Epoch 13/500:  train Loss: 271.5449   val Loss: 266.4434   time: 3.97s   best: 265.5790\n",
      "Epoch 14/500:  train Loss: 277.8685   val Loss: 279.2951   time: 3.97s   best: 265.5790\n",
      "Epoch 15/500:  train Loss: 287.3158   val Loss: 268.7563   time: 3.97s   best: 265.5790\n",
      "Epoch 16/500:  train Loss: 273.9218   val Loss: 267.1796   time: 3.97s   best: 265.5790\n",
      "Epoch 17/500:  train Loss: 272.2946   val Loss: 266.1779   time: 3.97s   best: 265.5790\n",
      "Epoch 18/500:  train Loss: 273.8303   val Loss: 266.3290   time: 3.97s   best: 265.5790\n",
      "Epoch 19/500:  train Loss: 270.9177   val Loss: 265.4652   time: 3.97s   best: 265.4652\n",
      "Epoch 20/500:  train Loss: 270.2010   val Loss: 266.0224   time: 3.96s   best: 265.4652\n",
      "Epoch 21/500:  train Loss: 270.5055   val Loss: 266.1900   time: 3.96s   best: 265.4652\n",
      "Epoch 22/500:  train Loss: 270.3608   val Loss: 266.7723   time: 3.96s   best: 265.4652\n",
      "Epoch 23/500:  train Loss: 270.8866   val Loss: 266.4377   time: 3.97s   best: 265.4652\n",
      "Epoch 24/500:  train Loss: 270.1132   val Loss: 265.0625   time: 3.97s   best: 265.0625\n",
      "Epoch 25/500:  train Loss: 271.4073   val Loss: 266.9486   time: 3.97s   best: 265.0625\n",
      "Epoch 26/500:  train Loss: 270.0983   val Loss: 265.6880   time: 4.02s   best: 265.0625\n",
      "Epoch 27/500:  train Loss: 271.8310   val Loss: 267.2210   time: 3.99s   best: 265.0625\n",
      "Epoch 28/500:  train Loss: 271.8648   val Loss: 265.2472   time: 3.98s   best: 265.0625\n",
      "Epoch 29/500:  train Loss: 271.6719   val Loss: 265.5328   time: 3.98s   best: 265.0625\n",
      "Epoch 30/500:  train Loss: 270.5783   val Loss: 265.8183   time: 3.97s   best: 265.0625\n",
      "Epoch 31/500:  train Loss: 270.4977   val Loss: 266.5495   time: 3.97s   best: 265.0625\n",
      "Epoch 32/500:  train Loss: 270.1897   val Loss: 266.6078   time: 3.98s   best: 265.0625\n",
      "Epoch 33/500:  train Loss: 270.9489   val Loss: 266.4107   time: 4.03s   best: 265.0625\n",
      "Epoch 34/500:  train Loss: 271.7650   val Loss: 264.9468   time: 3.98s   best: 264.9468\n",
      "Epoch 35/500:  train Loss: 271.5221   val Loss: 266.4886   time: 3.98s   best: 264.9468\n",
      "Epoch 36/500:  train Loss: 270.7052   val Loss: 266.4057   time: 3.97s   best: 264.9468\n",
      "Epoch 37/500:  train Loss: 270.3718   val Loss: 265.9107   time: 3.97s   best: 264.9468\n",
      "Epoch 38/500:  train Loss: 273.0658   val Loss: 284.5662   time: 3.96s   best: 264.9468\n",
      "Epoch 39/500:  train Loss: 275.1248   val Loss: 266.9282   time: 4.03s   best: 264.9468\n",
      "Epoch 40/500:  train Loss: 273.2767   val Loss: 268.1360   time: 3.97s   best: 264.9468\n",
      "Epoch 41/500:  train Loss: 270.7760   val Loss: 268.0612   time: 3.98s   best: 264.9468\n",
      "Epoch 42/500:  train Loss: 271.5078   val Loss: 266.5270   time: 3.97s   best: 264.9468\n",
      "Epoch 43/500:  train Loss: 275.2575   val Loss: 265.1952   time: 3.97s   best: 264.9468\n",
      "Epoch 44/500:  train Loss: 271.0905   val Loss: 267.9472   time: 3.96s   best: 264.9468\n",
      "Epoch 45/500:  train Loss: 279.8442   val Loss: 279.6796   time: 3.99s   best: 264.9468\n",
      "Epoch 46/500:  train Loss: 275.0737   val Loss: 266.6891   time: 4.01s   best: 264.9468\n",
      "Epoch 47/500:  train Loss: 271.5943   val Loss: 266.4566   time: 3.98s   best: 264.9468\n",
      "Epoch 48/500:  train Loss: 269.8504   val Loss: 266.6003   time: 3.98s   best: 264.9468\n",
      "Epoch 49/500:  train Loss: 270.1565   val Loss: 266.9730   time: 3.97s   best: 264.9468\n",
      "Epoch 50/500:  train Loss: 271.0965   val Loss: 266.8226   time: 3.97s   best: 264.9468\n",
      "Epoch 51/500:  train Loss: 272.6584   val Loss: 265.7811   time: 3.96s   best: 264.9468\n",
      "Epoch 52/500:  train Loss: 269.8940   val Loss: 267.1634   time: 4.02s   best: 264.9468\n",
      "Epoch 53/500:  train Loss: 269.8039   val Loss: 273.6302   time: 3.97s   best: 264.9468\n",
      "Epoch 54/500:  train Loss: 270.4914   val Loss: 267.6606   time: 3.97s   best: 264.9468\n",
      "Epoch 55/500:  train Loss: 271.5368   val Loss: 265.8068   time: 3.97s   best: 264.9468\n",
      "Epoch 56/500:  train Loss: 278.2563   val Loss: 267.2397   time: 3.96s   best: 264.9468\n",
      "Epoch 57/500:  train Loss: 272.3223   val Loss: 265.2951   time: 3.96s   best: 264.9468\n",
      "Epoch 58/500:  train Loss: 273.2288   val Loss: 268.0580   time: 4.01s   best: 264.9468\n",
      "Epoch 59/500:  train Loss: 285.7529   val Loss: 267.3384   time: 3.98s   best: 264.9468\n",
      "Epoch 60/500:  train Loss: 273.3054   val Loss: 266.6147   time: 3.97s   best: 264.9468\n",
      "Epoch 61/500:  train Loss: 276.7045   val Loss: 267.4019   time: 3.97s   best: 264.9468\n",
      "Epoch 62/500:  train Loss: 272.0513   val Loss: 265.5510   time: 3.96s   best: 264.9468\n",
      "Epoch 63/500:  train Loss: 271.0723   val Loss: 266.8576   time: 3.96s   best: 264.9468\n",
      "Epoch 64/500:  train Loss: 270.3262   val Loss: 265.2456   time: 3.98s   best: 264.9468\n",
      "Epoch 65/500:  train Loss: 270.3436   val Loss: 264.6596   time: 4.01s   best: 264.6596\n",
      "Epoch 66/500:  train Loss: 269.5150   val Loss: 266.2051   time: 3.98s   best: 264.6596\n",
      "Epoch 67/500:  train Loss: 268.9606   val Loss: 266.1112   time: 3.98s   best: 264.6596\n",
      "Epoch 68/500:  train Loss: 268.9420   val Loss: 264.4953   time: 3.97s   best: 264.4953\n",
      "Epoch 69/500:  train Loss: 269.1066   val Loss: 266.0235   time: 3.97s   best: 264.4953\n",
      "Epoch 70/500:  train Loss: 269.0426   val Loss: 266.6453   time: 3.96s   best: 264.4953\n",
      "Epoch 71/500:  train Loss: 270.5462   val Loss: 266.2742   time: 4.03s   best: 264.4953\n",
      "Epoch 72/500:  train Loss: 269.7626   val Loss: 268.1540   time: 3.97s   best: 264.4953\n",
      "Epoch 73/500:  train Loss: 270.3317   val Loss: 266.4777   time: 3.97s   best: 264.4953\n",
      "Epoch 74/500:  train Loss: 270.4685   val Loss: 267.6538   time: 3.97s   best: 264.4953\n",
      "Epoch 75/500:  train Loss: 270.5449   val Loss: 266.5450   time: 3.96s   best: 264.4953\n",
      "Epoch 76/500:  train Loss: 269.6602   val Loss: 265.6184   time: 3.96s   best: 264.4953\n",
      "Epoch 77/500:  train Loss: 270.0857   val Loss: 266.6148   time: 4.00s   best: 264.4953\n",
      "Epoch 78/500:  train Loss: 269.6258   val Loss: 265.7644   time: 3.99s   best: 264.4953\n",
      "Epoch 79/500:  train Loss: 269.7248   val Loss: 267.8196   time: 3.98s   best: 264.4953\n",
      "Epoch 80/500:  train Loss: 271.7473   val Loss: 270.1842   time: 3.97s   best: 264.4953\n",
      "Epoch 81/500:  train Loss: 269.5682   val Loss: 265.5799   time: 3.96s   best: 264.4953\n",
      "Epoch 82/500:  train Loss: 268.8453   val Loss: 266.8850   time: 3.97s   best: 264.4953\n",
      "Epoch 83/500:  train Loss: 271.8859   val Loss: 268.0385   time: 3.96s   best: 264.4953\n",
      "Epoch 84/500:  train Loss: 269.4399   val Loss: 264.3512   time: 4.02s   best: 264.3512\n",
      "Epoch 85/500:  train Loss: 268.2635   val Loss: 265.8738   time: 3.98s   best: 264.3512\n",
      "Epoch 86/500:  train Loss: 269.8269   val Loss: 266.6396   time: 3.98s   best: 264.3512\n",
      "Epoch 87/500:  train Loss: 270.7725   val Loss: 266.4530   time: 3.97s   best: 264.3512\n",
      "Epoch 88/500:  train Loss: 269.4358   val Loss: 268.0136   time: 3.97s   best: 264.3512\n",
      "Epoch 89/500:  train Loss: 269.7051   val Loss: 265.1414   time: 3.97s   best: 264.3512\n",
      "Epoch 90/500:  train Loss: 269.9920   val Loss: 264.7338   time: 4.02s   best: 264.3512\n",
      "Epoch 91/500:  train Loss: 271.8304   val Loss: 266.6847   time: 3.99s   best: 264.3512\n",
      "Epoch 92/500:  train Loss: 270.1278   val Loss: 266.5669   time: 3.98s   best: 264.3512\n",
      "Epoch 93/500:  train Loss: 270.1375   val Loss: 266.6768   time: 3.98s   best: 264.3512\n",
      "Epoch 94/500:  train Loss: 269.6130   val Loss: 265.9523   time: 3.97s   best: 264.3512\n",
      "Epoch 95/500:  train Loss: 268.5876   val Loss: 265.0761   time: 3.97s   best: 264.3512\n",
      "Epoch 96/500:  train Loss: 268.4992   val Loss: 267.2556   time: 3.98s   best: 264.3512\n",
      "Epoch 97/500:  train Loss: 269.1661   val Loss: 266.0046   time: 4.03s   best: 264.3512\n",
      "Epoch 98/500:  train Loss: 273.1851   val Loss: 265.4686   time: 3.99s   best: 264.3512\n",
      "Epoch 99/500:  train Loss: 269.9769   val Loss: 269.9235   time: 3.98s   best: 264.3512\n",
      "Epoch 100/500:  train Loss: 271.2463   val Loss: 266.4445   time: 3.98s   best: 264.3512\n",
      "Epoch 101/500:  train Loss: 270.3548   val Loss: 266.1145   time: 3.97s   best: 264.3512\n"
     ]
    },
    {
     "data": {
      "image/png": "[encoded data removed]",
      "text/plain": [
       "<Figure size 576x432 with 1 Axes>"
      ]
     },
     "metadata": {
      "needs_background": "light"
     },
     "output_type": "display_data"
    },
    {
     "name": "stdout",
     "output_type": "stream",
     "text": [
      "Epoch 102/500:  train Loss: 270.0923   val Loss: 266.4212   time: 3.97s   best: 264.3512\n",
      "Epoch 103/500:  train Loss: 267.7361   val Loss: 266.9136   time: 4.03s   best: 264.3512\n",
      "Epoch 104/500:  train Loss: 268.7107   val Loss: 265.4049   time: 3.98s   best: 264.3512\n",
      "Epoch 105/500:  train Loss: 268.0704   val Loss: 266.2269   time: 3.98s   best: 264.3512\n",
      "Epoch 106/500:  train Loss: 268.8553   val Loss: 265.8094   time: 3.98s   best: 264.3512\n",
      "Epoch 107/500:  train Loss: 268.9571   val Loss: 266.5928   time: 3.97s   best: 264.3512\n",
      "Epoch 108/500:  train Loss: 269.5606   val Loss: 271.3600   time: 3.97s   best: 264.3512\n",
      "Epoch 109/500:  train Loss: 273.4698   val Loss: 274.4793   time: 3.98s   best: 264.3512\n",
      "Epoch 110/500:  train Loss: 271.8558   val Loss: 266.1841   time: 4.01s   best: 264.3512\n",
      "Epoch 111/500:  train Loss: 269.5238   val Loss: 265.5799   time: 3.98s   best: 264.3512\n",
      "Epoch 112/500:  train Loss: 269.7757   val Loss: 265.0213   time: 3.97s   best: 264.3512\n",
      "Epoch 113/500:  train Loss: 268.4185   val Loss: 266.2160   time: 3.97s   best: 264.3512\n",
      "Epoch 114/500:  train Loss: 268.3274   val Loss: 266.0114   time: 3.97s   best: 264.3512\n",
      "Epoch 115/500:  train Loss: 268.9045   val Loss: 267.9575   time: 3.96s   best: 264.3512\n",
      "Epoch 116/500:  train Loss: 271.6162   val Loss: 266.9391   time: 4.03s   best: 264.3512\n",
      "Epoch 117/500:  train Loss: 268.7287   val Loss: 264.4868   time: 3.98s   best: 264.3512\n",
      "Epoch 118/500:  train Loss: 269.8147   val Loss: 266.5459   time: 3.98s   best: 264.3512\n",
      "Epoch 119/500:  train Loss: 267.9620   val Loss: 265.1127   time: 3.97s   best: 264.3512\n",
      "Epoch 120/500:  train Loss: 268.5869   val Loss: 265.2235   time: 3.97s   best: 264.3512\n",
      "Epoch 121/500:  train Loss: 267.8558   val Loss: 267.2972   time: 3.97s   best: 264.3512\n",
      "Epoch 122/500:  train Loss: 268.1592   val Loss: 265.3502   time: 4.02s   best: 264.3512\n",
      "Epoch 123/500:  train Loss: 268.5521   val Loss: 266.4280   time: 3.99s   best: 264.3512\n",
      "Epoch 124/500:  train Loss: 268.1042   val Loss: 264.9276   time: 3.98s   best: 264.3512\n",
      "Epoch 125/500:  train Loss: 268.2770   val Loss: 265.9426   time: 3.98s   best: 264.3512\n",
      "Epoch 126/500:  train Loss: 274.3000   val Loss: 265.0286   time: 3.97s   best: 264.3512\n",
      "Epoch 127/500:  train Loss: 268.8223   val Loss: 264.6873   time: 3.97s   best: 264.3512\n",
      "Epoch 128/500:  train Loss: 268.0006   val Loss: 267.9993   time: 3.98s   best: 264.3512\n",
      "Epoch 129/500:  train Loss: 267.8961   val Loss: 266.2660   time: 4.02s   best: 264.3512\n",
      "Epoch 130/500:  train Loss: 269.1157   val Loss: 267.4007   time: 3.98s   best: 264.3512\n",
      "Epoch 131/500:  train Loss: 267.9274   val Loss: 265.8067   time: 3.98s   best: 264.3512\n",
      "Epoch 132/500:  train Loss: 267.9234   val Loss: 265.3167   time: 3.97s   best: 264.3512\n",
      "Epoch 133/500:  train Loss: 267.6849   val Loss: 265.6430   time: 3.97s   best: 264.3512\n",
      "Epoch 134/500:  train Loss: 267.0563   val Loss: 265.0672   time: 3.96s   best: 264.3512\n",
      "Epoch 135/500:  train Loss: 269.5876   val Loss: 265.5290   time: 4.02s   best: 264.3512\n",
      "Epoch 136/500:  train Loss: 270.3731   val Loss: 265.4077   time: 3.98s   best: 264.3512\n",
      "Epoch 137/500:  train Loss: 267.8825   val Loss: 264.7297   time: 3.98s   best: 264.3512\n",
      "Epoch 138/500:  train Loss: 268.7049   val Loss: 266.0692   time: 3.97s   best: 264.3512\n",
      "Epoch 139/500:  train Loss: 267.7526   val Loss: 265.8034   time: 3.96s   best: 264.3512\n",
      "Epoch 140/500:  train Loss: 271.7058   val Loss: 265.3404   time: 3.96s   best: 264.3512\n",
      "Epoch 141/500:  train Loss: 267.5363   val Loss: 265.3033   time: 3.99s   best: 264.3512\n",
      "Epoch 142/500:  train Loss: 267.7787   val Loss: 265.3639   time: 4.01s   best: 264.3512\n",
      "Epoch 143/500:  train Loss: 267.6958   val Loss: 266.1992   time: 3.98s   best: 264.3512\n",
      "Epoch 144/500:  train Loss: 268.6311   val Loss: 265.9619   time: 3.98s   best: 264.3512\n",
      "Epoch 145/500:  train Loss: 272.2441   val Loss: 266.0976   time: 3.97s   best: 264.3512\n",
      "Epoch 146/500:  train Loss: 267.7826   val Loss: 266.7370   time: 3.97s   best: 264.3512\n",
      "Epoch 147/500:  train Loss: 267.3672   val Loss: 264.9455   time: 3.97s   best: 264.3512\n",
      "Epoch 148/500:  train Loss: 269.3352   val Loss: 266.5001   time: 4.03s   best: 264.3512\n",
      "Epoch 149/500:  train Loss: 266.5004   val Loss: 266.3527   time: 3.98s   best: 264.3512\n",
      "Epoch 150/500:  train Loss: 266.4485   val Loss: 265.2044   time: 3.98s   best: 264.3512\n",
      "Epoch 151/500:  train Loss: 266.2663   val Loss: 266.7947   time: 3.97s   best: 264.3512\n",
      "Epoch 152/500:  train Loss: 267.7507   val Loss: 263.9767   time: 3.97s   best: 263.9767\n",
      "Epoch 153/500:  train Loss: 269.9625   val Loss: 267.9946   time: 3.97s   best: 263.9767\n",
      "Epoch 154/500:  train Loss: 270.8076   val Loss: 265.4473   time: 4.02s   best: 263.9767\n",
      "Epoch 155/500:  train Loss: 267.2002   val Loss: 263.9833   time: 3.99s   best: 263.9767\n",
      "Epoch 156/500:  train Loss: 266.7810   val Loss: 265.4913   time: 3.98s   best: 263.9767\n",
      "Epoch 157/500:  train Loss: 266.8031   val Loss: 263.3371   time: 3.98s   best: 263.3371\n",
      "Epoch 158/500:  train Loss: 267.6067   val Loss: 265.4931   time: 3.97s   best: 263.3371\n",
      "Epoch 159/500:  train Loss: 266.6609   val Loss: 265.2419   time: 3.97s   best: 263.3371\n",
      "Epoch 160/500:  train Loss: 268.4199   val Loss: 265.5728   time: 3.98s   best: 263.3371\n",
      "Epoch 161/500:  train Loss: 269.5456   val Loss: 266.7161   time: 4.02s   best: 263.3371\n",
      "Epoch 162/500:  train Loss: 268.7031   val Loss: 267.9903   time: 3.98s   best: 263.3371\n",
      "Epoch 163/500:  train Loss: 268.1786   val Loss: 265.4508   time: 3.98s   best: 263.3371\n",
      "Epoch 164/500:  train Loss: 266.9733   val Loss: 264.6694   time: 3.97s   best: 263.3371\n",
      "Epoch 165/500:  train Loss: 266.4550   val Loss: 265.9728   time: 3.97s   best: 263.3371\n",
      "Epoch 166/500:  train Loss: 266.1231   val Loss: 266.3657   time: 3.96s   best: 263.3371\n",
      "Epoch 167/500:  train Loss: 267.6614   val Loss: 264.6306   time: 4.03s   best: 263.3371\n",
      "Epoch 168/500:  train Loss: 266.4620   val Loss: 263.7433   time: 3.98s   best: 263.3371\n",
      "Epoch 169/500:  train Loss: 265.9256   val Loss: 264.3677   time: 3.98s   best: 263.3371\n",
      "Epoch 170/500:  train Loss: 268.5205   val Loss: 265.7563   time: 3.97s   best: 263.3371\n",
      "Epoch 171/500:  train Loss: 266.5522   val Loss: 266.0291   time: 3.97s   best: 263.3371\n",
      "Epoch 172/500:  train Loss: 265.2595   val Loss: 266.0492   time: 3.98s   best: 263.3371\n",
      "Epoch 173/500:  train Loss: 265.6839   val Loss: 265.6526   time: 4.01s   best: 263.3371\n",
      "Epoch 174/500:  train Loss: 266.3427   val Loss: 266.4536   time: 4.01s   best: 263.3371\n",
      "Epoch 175/500:  train Loss: 265.8218   val Loss: 264.8435   time: 3.99s   best: 263.3371\n",
      "Epoch 176/500:  train Loss: 265.6890   val Loss: 266.1522   time: 3.98s   best: 263.3371\n",
      "Epoch 177/500:  train Loss: 265.8635   val Loss: 266.1504   time: 3.97s   best: 263.3371\n",
      "Epoch 178/500:  train Loss: 269.9164   val Loss: 265.6253   time: 3.97s   best: 263.3371\n",
      "Epoch 179/500:  train Loss: 269.9402   val Loss: 268.7532   time: 3.96s   best: 263.3371\n",
      "Epoch 180/500:  train Loss: 273.9878   val Loss: 265.0177   time: 4.03s   best: 263.3371\n",
      "Epoch 181/500:  train Loss: 267.0328   val Loss: 275.6499   time: 3.98s   best: 263.3371\n",
      "Epoch 182/500:  train Loss: 270.9278   val Loss: 264.5317   time: 3.98s   best: 263.3371\n",
      "Epoch 183/500:  train Loss: 265.9346   val Loss: 264.5144   time: 3.98s   best: 263.3371\n",
      "Epoch 184/500:  train Loss: 265.8810   val Loss: 263.8069   time: 3.97s   best: 263.3371\n",
      "Epoch 185/500:  train Loss: 266.2110   val Loss: 264.8327   time: 3.96s   best: 263.3371\n",
      "Epoch 186/500:  train Loss: 267.0948   val Loss: 265.4585   time: 4.02s   best: 263.3371\n",
      "Epoch 187/500:  train Loss: 266.7424   val Loss: 266.3638   time: 3.98s   best: 263.3371\n",
      "Epoch 188/500:  train Loss: 267.9803   val Loss: 264.4300   time: 3.98s   best: 263.3371\n",
      "Epoch 189/500:  train Loss: 266.5071   val Loss: 264.2496   time: 3.98s   best: 263.3371\n",
      "Epoch 190/500:  train Loss: 267.0354   val Loss: 264.5960   time: 3.96s   best: 263.3371\n",
      "Epoch 191/500:  train Loss: 264.9404   val Loss: 264.8633   time: 3.97s   best: 263.3371\n",
      "Epoch 192/500:  train Loss: 264.9533   val Loss: 264.3664   time: 3.99s   best: 263.3371\n",
      "Epoch 193/500:  train Loss: 269.3207   val Loss: 264.6142   time: 4.01s   best: 263.3371\n",
      "Epoch 194/500:  train Loss: 265.5860   val Loss: 264.8081   time: 3.98s   best: 263.3371\n",
      "Epoch 195/500:  train Loss: 265.5375   val Loss: 265.9139   time: 3.98s   best: 263.3371\n",
      "Epoch 196/500:  train Loss: 265.9870   val Loss: 264.4501   time: 3.96s   best: 263.3371\n",
      "Epoch 197/500:  train Loss: 267.9052   val Loss: 265.8201   time: 3.97s   best: 263.3371\n",
      "Epoch 198/500:  train Loss: 267.1009   val Loss: 265.0430   time: 3.96s   best: 263.3371\n",
      "Epoch 199/500:  train Loss: 265.4469   val Loss: 266.3005   time: 4.03s   best: 263.3371\n",
      "Epoch 200/500:  train Loss: 265.6193   val Loss: 266.9404   time: 3.98s   best: 263.3371\n",
      "Epoch 201/500:  train Loss: 266.7769   val Loss: 266.8956   time: 3.98s   best: 263.3371\n"
     ]
    },
    {
     "data": {
      "image/png": "[encoded data removed]",
      "text/plain": [
       "<Figure size 576x432 with 1 Axes>"
      ]
     },
     "metadata": {
      "needs_background": "light"
     },
     "output_type": "display_data"
    },
    {
     "name": "stdout",
     "output_type": "stream",
     "text": [
      "Epoch 202/500:  train Loss: 270.5232   val Loss: 265.8636   time: 3.97s   best: 263.3371\n",
      "Epoch 203/500:  train Loss: 267.6646   val Loss: 265.3150   time: 3.98s   best: 263.3371\n",
      "Epoch 204/500:  train Loss: 267.6697   val Loss: 265.2988   time: 3.97s   best: 263.3371\n",
      "Epoch 205/500:  train Loss: 266.8489   val Loss: 264.3468   time: 4.02s   best: 263.3371\n",
      "Epoch 206/500:  train Loss: 264.9447   val Loss: 263.2504   time: 4.00s   best: 263.2504\n",
      "Epoch 207/500:  train Loss: 265.9953   val Loss: 265.7581   time: 3.99s   best: 263.2504\n",
      "Epoch 208/500:  train Loss: 282.8283   val Loss: 283.9195   time: 3.98s   best: 263.2504\n",
      "Epoch 209/500:  train Loss: 274.5334   val Loss: 264.7824   time: 3.97s   best: 263.2504\n",
      "Epoch 210/500:  train Loss: 271.5287   val Loss: 265.8302   time: 3.97s   best: 263.2504\n",
      "Epoch 211/500:  train Loss: 267.6022   val Loss: 264.9490   time: 3.97s   best: 263.2504\n",
      "Epoch 212/500:  train Loss: 266.4295   val Loss: 275.0589   time: 4.03s   best: 263.2504\n",
      "Epoch 213/500:  train Loss: 267.6192   val Loss: 266.3002   time: 3.98s   best: 263.2504\n",
      "Epoch 214/500:  train Loss: 266.4055   val Loss: 264.5763   time: 3.98s   best: 263.2504\n",
      "Epoch 215/500:  train Loss: 265.0581   val Loss: 264.6347   time: 3.98s   best: 263.2504\n",
      "Epoch 216/500:  train Loss: 264.7698   val Loss: 265.2449   time: 3.96s   best: 263.2504\n",
      "Epoch 217/500:  train Loss: 265.6272   val Loss: 264.2895   time: 3.96s   best: 263.2504\n",
      "Epoch 218/500:  train Loss: 265.2005   val Loss: 263.8891   time: 4.01s   best: 263.2504\n",
      "Epoch 219/500:  train Loss: 264.6580   val Loss: 265.6909   time: 3.99s   best: 263.2504\n",
      "Epoch 220/500:  train Loss: 265.0293   val Loss: 265.3540   time: 3.98s   best: 263.2504\n",
      "Epoch 221/500:  train Loss: 264.1232   val Loss: 263.1782   time: 3.97s   best: 263.1782\n",
      "Epoch 222/500:  train Loss: 266.3043   val Loss: 264.5462   time: 3.97s   best: 263.1782\n",
      "Epoch 223/500:  train Loss: 265.4172   val Loss: 263.3863   time: 3.97s   best: 263.1782\n",
      "Epoch 224/500:  train Loss: 268.6028   val Loss: 263.7216   time: 3.97s   best: 263.1782\n",
      "Epoch 225/500:  train Loss: 265.5121   val Loss: 264.0735   time: 4.03s   best: 263.1782\n",
      "Epoch 226/500:  train Loss: 265.5759   val Loss: 265.5218   time: 3.98s   best: 263.1782\n",
      "Epoch 227/500:  train Loss: 265.6349   val Loss: 265.5250   time: 3.98s   best: 263.1782\n",
      "Epoch 228/500:  train Loss: 265.8185   val Loss: 264.7056   time: 3.97s   best: 263.1782\n",
      "Epoch 229/500:  train Loss: 264.9807   val Loss: 264.0947   time: 3.97s   best: 263.1782\n",
      "Epoch 230/500:  train Loss: 265.3988   val Loss: 264.6180   time: 3.97s   best: 263.1782\n",
      "Epoch 231/500:  train Loss: 272.1232   val Loss: 264.0744   time: 4.02s   best: 263.1782\n",
      "Epoch 232/500:  train Loss: 267.9594   val Loss: 264.4107   time: 3.99s   best: 263.1782\n",
      "Epoch 233/500:  train Loss: 265.0412   val Loss: 264.5624   time: 3.98s   best: 263.1782\n",
      "Epoch 234/500:  train Loss: 265.3420   val Loss: 266.0756   time: 3.98s   best: 263.1782\n",
      "Epoch 235/500:  train Loss: 265.1100   val Loss: 264.3090   time: 3.97s   best: 263.1782\n",
      "Epoch 236/500:  train Loss: 265.9662   val Loss: 267.6637   time: 3.97s   best: 263.1782\n",
      "Epoch 237/500:  train Loss: 265.1064   val Loss: 264.4525   time: 3.99s   best: 263.1782\n",
      "Epoch 238/500:  train Loss: 266.8909   val Loss: 264.5845   time: 4.02s   best: 263.1782\n",
      "Epoch 239/500:  train Loss: 266.6826   val Loss: 263.2163   time: 3.98s   best: 263.1782\n",
      "Epoch 240/500:  train Loss: 279.6575   val Loss: 267.8025   time: 3.98s   best: 263.1782\n",
      "Epoch 241/500:  train Loss: 269.7545   val Loss: 264.7406   time: 3.97s   best: 263.1782\n",
      "Epoch 242/500:  train Loss: 267.6698   val Loss: 264.4110   time: 3.97s   best: 263.1782\n",
      "Epoch 243/500:  train Loss: 265.8917   val Loss: 264.1022   time: 3.97s   best: 263.1782\n",
      "Epoch 244/500:  train Loss: 265.4428   val Loss: 263.2440   time: 4.03s   best: 263.1782\n",
      "Epoch 245/500:  train Loss: 264.3715   val Loss: 264.3258   time: 3.98s   best: 263.1782\n",
      "Epoch 246/500:  train Loss: 263.9079   val Loss: 264.2526   time: 3.98s   best: 263.1782\n",
      "Epoch 247/500:  train Loss: 264.1026   val Loss: 265.3374   time: 3.97s   best: 263.1782\n",
      "Epoch 248/500:  train Loss: 265.9520   val Loss: 264.1157   time: 3.97s   best: 263.1782\n",
      "Epoch 249/500:  train Loss: 265.3178   val Loss: 264.6231   time: 3.97s   best: 263.1782\n",
      "Epoch 250/500:  train Loss: 265.3897   val Loss: 265.4018   time: 4.02s   best: 263.1782\n",
      "Epoch 251/500:  train Loss: 266.0793   val Loss: 263.2710   time: 3.99s   best: 263.1782\n",
      "Epoch 252/500:  train Loss: 265.4884   val Loss: 264.6136   time: 3.98s   best: 263.1782\n",
      "Epoch 253/500:  train Loss: 264.8349   val Loss: 263.3261   time: 3.98s   best: 263.1782\n",
      "Epoch 254/500:  train Loss: 264.7137   val Loss: 264.2949   time: 3.97s   best: 263.1782\n",
      "Epoch 255/500:  train Loss: 268.4143   val Loss: 267.3447   time: 3.97s   best: 263.1782\n",
      "Epoch 256/500:  train Loss: 265.0189   val Loss: 265.5872   time: 3.98s   best: 263.1782\n",
      "Epoch 257/500:  train Loss: 264.3303   val Loss: 264.0120   time: 4.02s   best: 263.1782\n",
      "Epoch 258/500:  train Loss: 263.6534   val Loss: 265.3490   time: 3.98s   best: 263.1782\n",
      "Epoch 259/500:  train Loss: 263.8995   val Loss: 263.2204   time: 3.98s   best: 263.1782\n",
      "Epoch 260/500:  train Loss: 264.7899   val Loss: 264.0928   time: 3.97s   best: 263.1782\n",
      "Epoch 261/500:  train Loss: 264.5743   val Loss: 265.8984   time: 3.97s   best: 263.1782\n",
      "Epoch 262/500:  train Loss: 264.1431   val Loss: 265.4517   time: 3.96s   best: 263.1782\n",
      "Epoch 263/500:  train Loss: 264.6259   val Loss: 266.2595   time: 4.03s   best: 263.1782\n",
      "Epoch 264/500:  train Loss: 267.5812   val Loss: 266.3372   time: 3.98s   best: 263.1782\n",
      "Epoch 265/500:  train Loss: 264.5848   val Loss: 265.5543   time: 3.98s   best: 263.1782\n",
      "Epoch 266/500:  train Loss: 266.9927   val Loss: 264.6093   time: 3.97s   best: 263.1782\n",
      "Epoch 267/500:  train Loss: 267.8645   val Loss: 266.7198   time: 3.97s   best: 263.1782\n",
      "Epoch 268/500:  train Loss: 264.2247   val Loss: 264.3300   time: 3.97s   best: 263.1782\n",
      "Epoch 269/500:  train Loss: 265.5993   val Loss: 265.7470   time: 3.99s   best: 263.1782\n",
      "Epoch 270/500:  train Loss: 265.5630   val Loss: 267.8428   time: 4.00s   best: 263.1782\n",
      "Epoch 271/500:  train Loss: 267.2483   val Loss: 264.3091   time: 3.98s   best: 263.1782\n",
      "Epoch 272/500:  train Loss: 264.1483   val Loss: 264.0552   time: 3.98s   best: 263.1782\n",
      "Epoch 273/500:  train Loss: 263.8368   val Loss: 265.9785   time: 3.97s   best: 263.1782\n",
      "Epoch 274/500:  train Loss: 263.1591   val Loss: 264.4682   time: 3.97s   best: 263.1782\n",
      "Epoch 275/500:  train Loss: 264.3050   val Loss: 264.1294   time: 3.96s   best: 263.1782\n",
      "Epoch 276/500:  train Loss: 263.5619   val Loss: 265.1368   time: 4.03s   best: 263.1782\n",
      "Epoch 277/500:  train Loss: 263.4636   val Loss: 265.3427   time: 3.98s   best: 263.1782\n",
      "Epoch 278/500:  train Loss: 264.3246   val Loss: 265.0586   time: 3.98s   best: 263.1782\n",
      "Epoch 279/500:  train Loss: 266.1905   val Loss: 264.7917   time: 3.98s   best: 263.1782\n",
      "Epoch 280/500:  train Loss: 264.2902   val Loss: 267.1321   time: 3.97s   best: 263.1782\n",
      "Epoch 281/500:  train Loss: 282.8557   val Loss: 273.9724   time: 3.97s   best: 263.1782\n",
      "Epoch 282/500:  train Loss: 271.3964   val Loss: 264.9315   time: 4.01s   best: 263.1782\n",
      "Epoch 283/500:  train Loss: 266.7917   val Loss: 263.1595   time: 4.00s   best: 263.1595\n",
      "Epoch 284/500:  train Loss: 264.1822   val Loss: 264.1572   time: 3.98s   best: 263.1595\n",
      "Epoch 285/500:  train Loss: 264.7188   val Loss: 265.4555   time: 3.98s   best: 263.1595\n",
      "Epoch 286/500:  train Loss: 265.7314   val Loss: 264.2425   time: 3.96s   best: 263.1595\n",
      "Epoch 287/500:  train Loss: 263.8053   val Loss: 264.9328   time: 3.96s   best: 263.1595\n",
      "Epoch 288/500:  train Loss: 262.6095   val Loss: 263.5489   time: 3.97s   best: 263.1595\n",
      "Epoch 289/500:  train Loss: 262.4609   val Loss: 264.3099   time: 4.03s   best: 263.1595\n",
      "Epoch 290/500:  train Loss: 262.7218   val Loss: 264.1418   time: 3.98s   best: 263.1595\n",
      "Epoch 291/500:  train Loss: 263.5247   val Loss: 264.1614   time: 3.98s   best: 263.1595\n",
      "Epoch 292/500:  train Loss: 263.2608   val Loss: 264.4757   time: 3.97s   best: 263.1595\n",
      "Epoch 293/500:  train Loss: 268.4965   val Loss: 264.9067   time: 3.96s   best: 263.1595\n",
      "Epoch 294/500:  train Loss: 263.9700   val Loss: 263.5231   time: 3.95s   best: 263.1595\n",
      "Epoch 295/500:  train Loss: 263.1483   val Loss: 265.5115   time: 4.01s   best: 263.1595\n",
      "Epoch 296/500:  train Loss: 262.1116   val Loss: 263.8571   time: 3.97s   best: 263.1595\n",
      "Epoch 297/500:  train Loss: 263.8547   val Loss: 264.5614   time: 3.97s   best: 263.1595\n",
      "Epoch 298/500:  train Loss: 263.7625   val Loss: 264.8265   time: 3.96s   best: 263.1595\n",
      "Epoch 299/500:  train Loss: 265.7705   val Loss: 265.6556   time: 3.96s   best: 263.1595\n",
      "Epoch 300/500:  train Loss: 268.9771   val Loss: 264.7066   time: 3.96s   best: 263.1595\n",
      "Epoch 301/500:  train Loss: 264.9338   val Loss: 269.1387   time: 3.98s   best: 263.1595\n"
     ]
    },
    {
     "data": {
      "image/png": "[encoded data removed]",
      "text/plain": [
       "<Figure size 576x432 with 1 Axes>"
      ]
     },
     "metadata": {
      "needs_background": "light"
     },
     "output_type": "display_data"
    },
    {
     "name": "stdout",
     "output_type": "stream",
     "text": [
      "Epoch 302/500:  train Loss: 264.5235   val Loss: 264.5296   time: 4.00s   best: 263.1595\n",
      "Epoch 303/500:  train Loss: 264.5072   val Loss: 265.0196   time: 3.97s   best: 263.1595\n",
      "Epoch 304/500:  train Loss: 264.5574   val Loss: 267.8113   time: 3.97s   best: 263.1595\n",
      "Epoch 305/500:  train Loss: 267.6810   val Loss: 266.0417   time: 3.96s   best: 263.1595\n",
      "Epoch 306/500:  train Loss: 264.0913   val Loss: 263.3439   time: 3.97s   best: 263.1595\n",
      "Epoch 307/500:  train Loss: 268.8825   val Loss: 264.1446   time: 3.96s   best: 263.1595\n",
      "Epoch 308/500:  train Loss: 263.7318   val Loss: 263.8467   time: 4.03s   best: 263.1595\n",
      "Epoch 309/500:  train Loss: 262.8598   val Loss: 264.4201   time: 3.97s   best: 263.1595\n",
      "Epoch 310/500:  train Loss: 262.5566   val Loss: 263.4997   time: 3.97s   best: 263.1595\n",
      "Epoch 311/500:  train Loss: 263.5824   val Loss: 264.0809   time: 3.97s   best: 263.1595\n",
      "Epoch 312/500:  train Loss: 265.5168   val Loss: 264.1746   time: 3.96s   best: 263.1595\n",
      "Epoch 313/500:  train Loss: 267.9587   val Loss: 268.9791   time: 3.96s   best: 263.1595\n",
      "Epoch 314/500:  train Loss: 268.5691   val Loss: 265.7179   time: 3.99s   best: 263.1595\n",
      "Epoch 315/500:  train Loss: 264.3469   val Loss: 263.6947   time: 3.99s   best: 263.1595\n",
      "Epoch 316/500:  train Loss: 264.0141   val Loss: 267.1896   time: 3.97s   best: 263.1595\n",
      "Epoch 317/500:  train Loss: 263.5667   val Loss: 264.3816   time: 3.97s   best: 263.1595\n",
      "Epoch 318/500:  train Loss: 263.5069   val Loss: 265.3859   time: 3.96s   best: 263.1595\n",
      "Epoch 319/500:  train Loss: 266.3387   val Loss: 263.7335   time: 3.96s   best: 263.1595\n",
      "Epoch 320/500:  train Loss: 263.2026   val Loss: 263.7845   time: 3.96s   best: 263.1595\n",
      "Epoch 321/500:  train Loss: 263.0248   val Loss: 263.5674   time: 4.02s   best: 263.1595\n",
      "Epoch 322/500:  train Loss: 262.2181   val Loss: 264.4134   time: 3.97s   best: 263.1595\n",
      "Epoch 323/500:  train Loss: 264.8727   val Loss: 264.2440   time: 3.97s   best: 263.1595\n",
      "Epoch 324/500:  train Loss: 263.2916   val Loss: 265.4403   time: 3.96s   best: 263.1595\n",
      "Epoch 325/500:  train Loss: 264.7250   val Loss: 263.3557   time: 3.96s   best: 263.1595\n",
      "Epoch 326/500:  train Loss: 262.7763   val Loss: 263.6329   time: 3.96s   best: 263.1595\n",
      "Epoch 327/500:  train Loss: 262.3795   val Loss: 264.7600   time: 4.01s   best: 263.1595\n",
      "Epoch 328/500:  train Loss: 262.0533   val Loss: 265.5867   time: 3.97s   best: 263.1595\n",
      "Epoch 329/500:  train Loss: 264.8489   val Loss: 263.9878   time: 3.97s   best: 263.1595\n",
      "Epoch 330/500:  train Loss: 262.6234   val Loss: 265.6463   time: 3.96s   best: 263.1595\n",
      "Epoch 331/500:  train Loss: 262.6645   val Loss: 265.4036   time: 3.95s   best: 263.1595\n",
      "Epoch 332/500:  train Loss: 262.2967   val Loss: 264.5574   time: 3.96s   best: 263.1595\n",
      "Epoch 333/500:  train Loss: 262.7839   val Loss: 264.2924   time: 3.97s   best: 263.1595\n",
      "Epoch 334/500:  train Loss: 262.5366   val Loss: 264.5239   time: 4.01s   best: 263.1595\n",
      "Epoch 335/500:  train Loss: 268.0771   val Loss: 264.3774   time: 3.97s   best: 263.1595\n",
      "Epoch 336/500:  train Loss: 276.1908   val Loss: 288.1459   time: 3.97s   best: 263.1595\n",
      "Epoch 337/500:  train Loss: 274.6271   val Loss: 264.1681   time: 3.96s   best: 263.1595\n",
      "Epoch 338/500:  train Loss: 264.0572   val Loss: 263.8851   time: 3.96s   best: 263.1595\n",
      "Epoch 339/500:  train Loss: 262.8213   val Loss: 263.8512   time: 3.95s   best: 263.1595\n",
      "Epoch 340/500:  train Loss: 263.0094   val Loss: 263.1805   time: 4.02s   best: 263.1595\n",
      "Epoch 341/500:  train Loss: 262.0553   val Loss: 264.6290   time: 3.97s   best: 263.1595\n",
      "Epoch 342/500:  train Loss: 262.5730   val Loss: 264.6615   time: 3.96s   best: 263.1595\n",
      "Epoch 343/500:  train Loss: 262.1035   val Loss: 263.6804   time: 3.97s   best: 263.1595\n",
      "Epoch 344/500:  train Loss: 262.4947   val Loss: 265.0667   time: 3.97s   best: 263.1595\n",
      "Epoch 345/500:  train Loss: 268.0575   val Loss: 264.1127   time: 3.96s   best: 263.1595\n",
      "Epoch 346/500:  train Loss: 262.5029   val Loss: 262.6726   time: 4.01s   best: 262.6726\n",
      "Epoch 347/500:  train Loss: 265.2282   val Loss: 265.1336   time: 4.00s   best: 262.6726\n",
      "Epoch 348/500:  train Loss: 263.8324   val Loss: 263.5153   time: 3.99s   best: 262.6726\n",
      "Epoch 349/500:  train Loss: 263.6299   val Loss: 263.1324   time: 3.99s   best: 262.6726\n",
      "Epoch 350/500:  train Loss: 263.7785   val Loss: 270.5539   time: 3.98s   best: 262.6726\n",
      "Epoch 351/500:  train Loss: 263.1575   val Loss: 264.6383   time: 3.97s   best: 262.6726\n",
      "Epoch 352/500:  train Loss: 262.9512   val Loss: 262.8040   time: 3.97s   best: 262.6726\n",
      "Epoch 353/500:  train Loss: 261.4415   val Loss: 264.5895   time: 4.02s   best: 262.6726\n",
      "Epoch 354/500:  train Loss: 260.7317   val Loss: 263.2035   time: 3.98s   best: 262.6726\n",
      "Epoch 355/500:  train Loss: 262.7381   val Loss: 264.4017   time: 3.98s   best: 262.6726\n",
      "Epoch 356/500:  train Loss: 263.8528   val Loss: 265.7309   time: 3.97s   best: 262.6726\n",
      "Epoch 357/500:  train Loss: 262.6672   val Loss: 264.3808   time: 3.97s   best: 262.6726\n",
      "Epoch 358/500:  train Loss: 263.5617   val Loss: 267.0939   time: 3.96s   best: 262.6726\n",
      "Epoch 359/500:  train Loss: 264.6494   val Loss: 263.8694   time: 4.03s   best: 262.6726\n",
      "Epoch 360/500:  train Loss: 263.2548   val Loss: 264.8130   time: 3.97s   best: 262.6726\n",
      "Epoch 361/500:  train Loss: 262.2594   val Loss: 265.3800   time: 3.97s   best: 262.6726\n",
      "Epoch 362/500:  train Loss: 262.6458   val Loss: 264.3990   time: 3.97s   best: 262.6726\n",
      "Epoch 363/500:  train Loss: 262.0910   val Loss: 264.0344   time: 3.96s   best: 262.6726\n",
      "Epoch 364/500:  train Loss: 261.5838   val Loss: 264.8521   time: 3.97s   best: 262.6726\n",
      "Epoch 365/500:  train Loss: 263.8142   val Loss: 263.5353   time: 4.00s   best: 262.6726\n",
      "Epoch 366/500:  train Loss: 263.0069   val Loss: 263.2550   time: 4.00s   best: 262.6726\n",
      "Epoch 367/500:  train Loss: 262.8106   val Loss: 275.5220   time: 3.98s   best: 262.6726\n",
      "Epoch 368/500:  train Loss: 267.6559   val Loss: 264.4972   time: 3.98s   best: 262.6726\n",
      "Epoch 369/500:  train Loss: 265.0406   val Loss: 264.2942   time: 3.96s   best: 262.6726\n",
      "Epoch 370/500:  train Loss: 262.1314   val Loss: 267.7274   time: 3.97s   best: 262.6726\n",
      "Epoch 371/500:  train Loss: 262.3849   val Loss: 263.0547   time: 3.97s   best: 262.6726\n",
      "Epoch 372/500:  train Loss: 265.1660   val Loss: 262.6482   time: 4.02s   best: 262.6482\n",
      "Epoch 373/500:  train Loss: 261.2114   val Loss: 263.8186   time: 3.98s   best: 262.6482\n",
      "Epoch 374/500:  train Loss: 262.6762   val Loss: 263.8323   time: 3.97s   best: 262.6482\n",
      "Epoch 375/500:  train Loss: 261.0726   val Loss: 264.8130   time: 3.96s   best: 262.6482\n",
      "Epoch 376/500:  train Loss: 261.8624   val Loss: 263.2408   time: 3.96s   best: 262.6482\n",
      "Epoch 377/500:  train Loss: 263.4700   val Loss: 263.0201   time: 3.95s   best: 262.6482\n",
      "Epoch 378/500:  train Loss: 262.1096   val Loss: 263.9210   time: 4.02s   best: 262.6482\n",
      "Epoch 379/500:  train Loss: 261.3821   val Loss: 265.7259   time: 3.97s   best: 262.6482\n",
      "Epoch 380/500:  train Loss: 262.2714   val Loss: 264.9716   time: 3.97s   best: 262.6482\n",
      "Epoch 381/500:  train Loss: 260.9510   val Loss: 263.9391   time: 3.97s   best: 262.6482\n",
      "Epoch 382/500:  train Loss: 262.1758   val Loss: 265.6451   time: 3.96s   best: 262.6482\n",
      "Epoch 383/500:  train Loss: 262.2115   val Loss: 264.1942   time: 3.96s   best: 262.6482\n",
      "Epoch 384/500:  train Loss: 260.6796   val Loss: 263.5254   time: 3.98s   best: 262.6482\n",
      "Epoch 385/500:  train Loss: 267.5613   val Loss: 263.4799   time: 4.00s   best: 262.6482\n",
      "Epoch 386/500:  train Loss: 262.5074   val Loss: 263.2849   time: 3.97s   best: 262.6482\n",
      "Epoch 387/500:  train Loss: 261.3326   val Loss: 263.1706   time: 3.97s   best: 262.6482\n",
      "Epoch 388/500:  train Loss: 260.9474   val Loss: 265.1102   time: 3.96s   best: 262.6482\n",
      "Epoch 389/500:  train Loss: 261.6869   val Loss: 263.2142   time: 3.96s   best: 262.6482\n",
      "Epoch 390/500:  train Loss: 268.5667   val Loss: 265.4096   time: 3.96s   best: 262.6482\n",
      "Epoch 391/500:  train Loss: 264.0308   val Loss: 262.9985   time: 4.02s   best: 262.6482\n",
      "Epoch 392/500:  train Loss: 261.7670   val Loss: 263.7021   time: 3.97s   best: 262.6482\n",
      "Epoch 393/500:  train Loss: 260.6933   val Loss: 264.1058   time: 3.97s   best: 262.6482\n",
      "Epoch 394/500:  train Loss: 261.9642   val Loss: 263.4177   time: 3.97s   best: 262.6482\n",
      "Epoch 395/500:  train Loss: 260.3444   val Loss: 263.0853   time: 3.96s   best: 262.6482\n",
      "Epoch 396/500:  train Loss: 262.8389   val Loss: 264.0459   time: 3.96s   best: 262.6482\n",
      "Epoch 397/500:  train Loss: 261.1771   val Loss: 265.0364   time: 4.01s   best: 262.6482\n",
      "Epoch 398/500:  train Loss: 260.5919   val Loss: 265.5205   time: 3.98s   best: 262.6482\n",
      "Epoch 399/500:  train Loss: 260.7024   val Loss: 264.4023   time: 3.98s   best: 262.6482\n",
      "Epoch 400/500:  train Loss: 260.6335   val Loss: 264.4031   time: 3.97s   best: 262.6482\n",
      "Epoch 401/500:  train Loss: 261.2724   val Loss: 265.0568   time: 3.97s   best: 262.6482\n"
     ]
    },
    {
     "data": {
      "image/png": "[encoded data removed]",
      "text/plain": [
       "<Figure size 576x432 with 1 Axes>"
      ]
     },
     "metadata": {
      "needs_background": "light"
     },
     "output_type": "display_data"
    },
    {
     "name": "stdout",
     "output_type": "stream",
     "text": [
      "Epoch 402/500:  train Loss: 260.9300   val Loss: 265.8426   time: 3.97s   best: 262.6482\n",
      "Epoch 403/500:  train Loss: 260.6139   val Loss: 265.0009   time: 3.98s   best: 262.6482\n",
      "Epoch 404/500:  train Loss: 260.7138   val Loss: 262.7832   time: 4.02s   best: 262.6482\n",
      "Epoch 405/500:  train Loss: 261.3542   val Loss: 264.6556   time: 3.98s   best: 262.6482\n",
      "Epoch 406/500:  train Loss: 261.6757   val Loss: 263.4214   time: 3.97s   best: 262.6482\n",
      "Epoch 407/500:  train Loss: 262.1128   val Loss: 263.5249   time: 3.96s   best: 262.6482\n",
      "Epoch 408/500:  train Loss: 263.6259   val Loss: 264.6792   time: 3.96s   best: 262.6482\n",
      "Epoch 409/500:  train Loss: 261.0830   val Loss: 265.6620   time: 3.96s   best: 262.6482\n",
      "Epoch 410/500:  train Loss: 260.5571   val Loss: 264.8511   time: 4.01s   best: 262.6482\n",
      "Epoch 411/500:  train Loss: 261.0039   val Loss: 263.4404   time: 3.98s   best: 262.6482\n",
      "Epoch 412/500:  train Loss: 261.4286   val Loss: 265.2947   time: 3.97s   best: 262.6482\n",
      "Epoch 413/500:  train Loss: 260.4969   val Loss: 264.6440   time: 3.97s   best: 262.6482\n",
      "Epoch 414/500:  train Loss: 261.0239   val Loss: 263.8412   time: 3.96s   best: 262.6482\n",
      "Epoch 415/500:  train Loss: 264.9151   val Loss: 267.3171   time: 3.97s   best: 262.6482\n",
      "Epoch 416/500:  train Loss: 261.7454   val Loss: 263.7256   time: 3.98s   best: 262.6482\n",
      "Epoch 417/500:  train Loss: 261.3960   val Loss: 264.6450   time: 4.01s   best: 262.6482\n",
      "Epoch 418/500:  train Loss: 260.0309   val Loss: 264.5673   time: 3.98s   best: 262.6482\n",
      "Epoch 419/500:  train Loss: 259.5723   val Loss: 265.8711   time: 3.98s   best: 262.6482\n",
      "Epoch 420/500:  train Loss: 259.9954   val Loss: 264.5960   time: 3.97s   best: 262.6482\n",
      "Epoch 421/500:  train Loss: 261.7549   val Loss: 263.5556   time: 3.97s   best: 262.6482\n",
      "Epoch 422/500:  train Loss: 261.4302   val Loss: 263.9435   time: 3.97s   best: 262.6482\n",
      "Epoch 423/500:  train Loss: 260.9041   val Loss: 266.2807   time: 4.03s   best: 262.6482\n",
      "Epoch 424/500:  train Loss: 264.6939   val Loss: 262.9417   time: 3.97s   best: 262.6482\n",
      "Epoch 425/500:  train Loss: 260.8249   val Loss: 264.2765   time: 3.97s   best: 262.6482\n",
      "Epoch 426/500:  train Loss: 260.6298   val Loss: 264.2532   time: 3.97s   best: 262.6482\n",
      "Epoch 427/500:  train Loss: 263.7441   val Loss: 262.8967   time: 3.96s   best: 262.6482\n",
      "Epoch 428/500:  train Loss: 266.5348   val Loss: 264.1105   time: 3.96s   best: 262.6482\n",
      "Epoch 429/500:  train Loss: 261.1851   val Loss: 263.1084   time: 4.01s   best: 262.6482\n",
      "Epoch 430/500:  train Loss: 260.1318   val Loss: 262.5647   time: 3.99s   best: 262.5647\n",
      "Epoch 431/500:  train Loss: 259.0970   val Loss: 263.0874   time: 3.98s   best: 262.5647\n",
      "Epoch 432/500:  train Loss: 260.0072   val Loss: 263.2235   time: 3.98s   best: 262.5647\n",
      "Epoch 433/500:  train Loss: 259.4189   val Loss: 264.0946   time: 3.97s   best: 262.5647\n",
      "Epoch 434/500:  train Loss: 259.7526   val Loss: 262.4243   time: 3.97s   best: 262.4243\n",
      "Epoch 435/500:  train Loss: 259.7494   val Loss: 262.5525   time: 3.97s   best: 262.4243\n",
      "Epoch 436/500:  train Loss: 261.6098   val Loss: 263.7991   time: 4.01s   best: 262.4243\n",
      "Epoch 437/500:  train Loss: 261.7371   val Loss: 263.6957   time: 3.97s   best: 262.4243\n",
      "Epoch 438/500:  train Loss: 261.9935   val Loss: 263.5479   time: 3.97s   best: 262.4243\n",
      "Epoch 439/500:  train Loss: 260.5912   val Loss: 263.6602   time: 3.96s   best: 262.4243\n",
      "Epoch 440/500:  train Loss: 260.8789   val Loss: 264.9711   time: 3.96s   best: 262.4243\n",
      "Epoch 441/500:  train Loss: 260.1106   val Loss: 265.0170   time: 3.95s   best: 262.4243\n",
      "Epoch 442/500:  train Loss: 259.4969   val Loss: 264.2191   time: 4.02s   best: 262.4243\n",
      "Epoch 443/500:  train Loss: 259.7763   val Loss: 263.1680   time: 3.97s   best: 262.4243\n",
      "Epoch 444/500:  train Loss: 262.2697   val Loss: 263.2930   time: 3.97s   best: 262.4243\n",
      "Epoch 445/500:  train Loss: 259.8809   val Loss: 263.0340   time: 3.97s   best: 262.4243\n",
      "Epoch 446/500:  train Loss: 259.8005   val Loss: 261.6114   time: 3.97s   best: 261.6114\n",
      "Epoch 447/500:  train Loss: 259.7868   val Loss: 264.3419   time: 3.97s   best: 261.6114\n",
      "Epoch 448/500:  train Loss: 259.5156   val Loss: 264.3945   time: 3.99s   best: 261.6114\n",
      "Epoch 449/500:  train Loss: 259.8697   val Loss: 263.9579   time: 4.00s   best: 261.6114\n",
      "Epoch 450/500:  train Loss: 260.8902   val Loss: 265.8199   time: 3.98s   best: 261.6114\n",
      "Epoch 451/500:  train Loss: 260.8038   val Loss: 265.0108   time: 3.98s   best: 261.6114\n",
      "Epoch 452/500:  train Loss: 261.0187   val Loss: 264.1153   time: 3.96s   best: 261.6114\n",
      "Epoch 453/500:  train Loss: 258.8501   val Loss: 263.5506   time: 3.97s   best: 261.6114\n",
      "Epoch 454/500:  train Loss: 264.1203   val Loss: 271.0507   time: 3.96s   best: 261.6114\n",
      "Epoch 455/500:  train Loss: 263.6735   val Loss: 263.9753   time: 4.02s   best: 261.6114\n",
      "Epoch 456/500:  train Loss: 260.3531   val Loss: 264.5757   time: 3.98s   best: 261.6114\n",
      "Epoch 457/500:  train Loss: 259.2927   val Loss: 263.0047   time: 3.97s   best: 261.6114\n",
      "Epoch 458/500:  train Loss: 258.8673   val Loss: 264.1424   time: 3.97s   best: 261.6114\n",
      "Epoch 459/500:  train Loss: 260.5030   val Loss: 263.3838   time: 3.96s   best: 261.6114\n",
      "Epoch 460/500:  train Loss: 260.8670   val Loss: 264.6676   time: 3.96s   best: 261.6114\n",
      "Epoch 461/500:  train Loss: 269.1219   val Loss: 264.4208   time: 4.02s   best: 261.6114\n",
      "Epoch 462/500:  train Loss: 264.2823   val Loss: 262.7926   time: 3.98s   best: 261.6114\n",
      "Epoch 463/500:  train Loss: 260.7528   val Loss: 262.6788   time: 3.97s   best: 261.6114\n",
      "Epoch 464/500:  train Loss: 260.0853   val Loss: 263.0420   time: 3.97s   best: 261.6114\n",
      "Epoch 465/500:  train Loss: 258.7830   val Loss: 264.3099   time: 3.96s   best: 261.6114\n",
      "Epoch 466/500:  train Loss: 259.8420   val Loss: 267.4215   time: 3.96s   best: 261.6114\n",
      "Epoch 467/500:  train Loss: 261.6197   val Loss: 264.0816   time: 3.98s   best: 261.6114\n",
      "Epoch 468/500:  train Loss: 259.2667   val Loss: 264.9808   time: 4.01s   best: 261.6114\n",
      "Epoch 469/500:  train Loss: 259.4267   val Loss: 264.3454   time: 3.98s   best: 261.6114\n",
      "Epoch 470/500:  train Loss: 258.1884   val Loss: 262.7119   time: 3.98s   best: 261.6114\n",
      "Epoch 471/500:  train Loss: 258.9817   val Loss: 262.4477   time: 3.97s   best: 261.6114\n",
      "Epoch 472/500:  train Loss: 259.5791   val Loss: 263.3130   time: 3.97s   best: 261.6114\n",
      "Epoch 473/500:  train Loss: 258.5606   val Loss: 263.4206   time: 3.96s   best: 261.6114\n",
      "Epoch 474/500:  train Loss: 260.9714   val Loss: 264.4265   time: 4.02s   best: 261.6114\n",
      "Epoch 475/500:  train Loss: 259.6487   val Loss: 262.8172   time: 3.97s   best: 261.6114\n",
      "Epoch 476/500:  train Loss: 259.8785   val Loss: 265.1720   time: 3.97s   best: 261.6114\n",
      "Epoch 477/500:  train Loss: 258.7543   val Loss: 263.6563   time: 3.96s   best: 261.6114\n",
      "Epoch 478/500:  train Loss: 259.7296   val Loss: 263.8905   time: 3.96s   best: 261.6114\n",
      "Epoch 479/500:  train Loss: 259.1315   val Loss: 264.1780   time: 3.96s   best: 261.6114\n",
      "Epoch 480/500:  train Loss: 261.6028   val Loss: 264.9346   time: 4.01s   best: 261.6114\n",
      "Epoch 481/500:  train Loss: 261.1076   val Loss: 264.4875   time: 3.98s   best: 261.6114\n",
      "Epoch 482/500:  train Loss: 259.3896   val Loss: 263.7392   time: 3.97s   best: 261.6114\n",
      "Epoch 483/500:  train Loss: 259.8932   val Loss: 263.0583   time: 3.97s   best: 261.6114\n",
      "Epoch 484/500:  train Loss: 260.4680   val Loss: 263.1448   time: 3.96s   best: 261.6114\n",
      "Epoch 485/500:  train Loss: 262.6726   val Loss: 264.4945   time: 3.96s   best: 261.6114\n",
      "Epoch 486/500:  train Loss: 259.2686   val Loss: 263.9619   time: 3.97s   best: 261.6114\n",
      "Epoch 487/500:  train Loss: 258.3374   val Loss: 263.3708   time: 4.01s   best: 261.6114\n",
      "Epoch 488/500:  train Loss: 259.4038   val Loss: 262.9415   time: 3.98s   best: 261.6114\n",
      "Epoch 489/500:  train Loss: 263.4038   val Loss: 265.9775   time: 3.97s   best: 261.6114\n",
      "Epoch 490/500:  train Loss: 260.3952   val Loss: 262.7121   time: 3.97s   best: 261.6114\n",
      "Epoch 491/500:  train Loss: 259.5421   val Loss: 263.4040   time: 3.97s   best: 261.6114\n",
      "Epoch 492/500:  train Loss: 258.0367   val Loss: 262.6095   time: 3.96s   best: 261.6114\n",
      "Epoch 493/500:  train Loss: 259.7257   val Loss: 264.2567   time: 4.03s   best: 261.6114\n",
      "Epoch 494/500:  train Loss: 260.4467   val Loss: 263.1309   time: 3.98s   best: 261.6114\n",
      "Epoch 495/500:  train Loss: 258.8690   val Loss: 263.3839   time: 3.98s   best: 261.6114\n",
      "Epoch 496/500:  train Loss: 259.0095   val Loss: 263.1472   time: 3.98s   best: 261.6114\n",
      "Epoch 497/500:  train Loss: 258.5081   val Loss: 263.3901   time: 3.97s   best: 261.6114\n",
      "Epoch 498/500:  train Loss: 261.6600   val Loss: 263.5697   time: 3.97s   best: 261.6114\n",
      "Epoch 499/500:  train Loss: 262.5547   val Loss: 265.3055   time: 3.99s   best: 261.6114\n",
      "Epoch 500/500:  train Loss: 262.1683   val Loss: 263.3850   time: 4.00s   best: 261.6114\n"
     ]
    },
    {
     "data": {
      "image/png": "[encoded data removed]",
      "text/plain": [
       "<Figure size 576x432 with 1 Axes>"
      ]
     },
     "metadata": {
      "needs_background": "light"
     },
     "output_type": "display_data"
    },
    {
     "name": "stdout",
     "output_type": "stream",
     "text": [
      "Training complete in 33m 10s   best validation loss: 261.6114\n"
     ]
    }
   ],
   "source": [
    "bl_dict={'train':train_bl, 'val':val_bl}\n",
    "log_file = 'log_test1.txt'\n",
    "\n",
    "losses, best_model = train_model(model, criterion, optimizer , max_lr=0.001, dataloader=bl_dict,\n",
    "                                 num_epochs=500, logFile=log_file, log_every=500)"
   ]
  },
  {
   "cell_type": "markdown",
   "metadata": {},
   "source": [
    "# Save model"
   ]
  },
  {
   "cell_type": "code",
   "execution_count": 43,
   "metadata": {},
   "outputs": [],
   "source": [
    "torch.save(model.state_dict(), 'Models/full_1000_0.001_22_NewDS_Reduced_Fusion_2000_Fixed_Final.pkl')"
   ]
  },
  {
   "cell_type": "markdown",
   "metadata": {},
   "source": [
    "### Load existing model"
   ]
  },
  {
   "cell_type": "code",
   "execution_count": 15,
   "metadata": {
    "tags": []
   },
   "outputs": [
    {
     "name": "stdout",
     "output_type": "stream",
     "text": [
      "\n"
     ]
    }
   ],
   "source": [
    "# model.load_state_dict(torch.load('Models/full_1000_0.001_106_13M115_dropout_fused_kBest_0.0006_2000_4.pkl',map_location=train_device))\n",
    "model.load_state_dict(torch.load('Models/full_1000_0.001_106_13M115_dropout_fused_kBest_0.001_2000_ALL+New_0.2.pkl',map_location=train_device))\n",
    "model.to(train_device)\n",
    "print()"
   ]
  },
  {
   "cell_type": "markdown",
   "metadata": {
    "tags": []
   },
   "source": [
    "### Results "
   ]
  },
  {
   "cell_type": "code",
   "execution_count": 35,
   "metadata": {},
   "outputs": [],
   "source": [
    "#accuracy 1st-shot, 2-shots, 3-shots and 5-shots\n",
    "def accuracy(df):\n",
    "    #return np.sum(df[\"prediction\"] == df[\"target\"]) / len(df) * 100\n",
    "    targets = np.array(df['target'].values.tolist()) # 1-dim array (#rows, ) = list\n",
    "    #we went to lists and back to get the last dimension of the (#rows, #size_output) instead of (#rows,)\n",
    "    predictions = np.array(df['prediction'].values.tolist())\n",
    "    \n",
    "    first = np.argmax(targets[:,0:one_output],-1) == np.argmax(predictions[:,0:one_output],-1) \n",
    "    second = np.argmax(targets[:,0:one_output],-1) ==  np.argmax(predictions[:,one_output:one_output+one_output],-1)\n",
    "    third = np.argmax(targets[:,0:one_output],-1) ==  np.argmax(predictions[:,one_output*2:one_output*3],-1)\n",
    "    forth = np.argmax(targets[:,0:one_output],-1) ==  np.argmax(predictions[:,one_output*3:one_output*4],-1 )  \n",
    "    fifth = np.argmax(targets[:,0:one_output],-1) ==  np.argmax(predictions[:,one_output*4:one_output*5],-1)\n",
    "    firstorsecond = np.logical_or(first,second)\n",
    "    firstorsecondorsthird = firstorsecond | third # same as logical or\n",
    "    anywhere = firstorsecondorsthird | forth | fifth\n",
    "    return np.sum(first == True) / len(df) * 100, np.sum(firstorsecond == True) / len(df) * 100, np.sum(firstorsecondorsthird == True) / len(df) * 100, np.sum(anywhere == True) / len(df) * 100"
   ]
  },
  {
   "cell_type": "code",
   "execution_count": 36,
   "metadata": {},
   "outputs": [
    {
     "name": "stderr",
     "output_type": "stream",
     "text": [
      " 24%|██▍       | 22/91 [00:00<00:00, 213.73it/s]"
     ]
    },
    {
     "name": "stdout",
     "output_type": "stream",
     "text": [
      "torch.Size([10, 110]) torch.Size([10, 110])\n",
      "torch.Size([832, 110]) torch.Size([832, 110])\n",
      "torch.Size([832, 110]) torch.Size([832, 110])\n",
      "torch.Size([2, 110]) torch.Size([2, 110])\n",
      "torch.Size([832, 110]) torch.Size([832, 110])\n",
      "torch.Size([832, 110]) torch.Size([832, 110])\n",
      "torch.Size([832, 110]) torch.Size([832, 110])\n",
      "torch.Size([832, 110]) torch.Size([832, 110])\n",
      "torch.Size([24, 110]) torch.Size([24, 110])\n",
      "torch.Size([832, 110]) torch.Size([832, 110])\n",
      "torch.Size([81, 110]) torch.Size([81, 110])\n",
      "torch.Size([832, 110]) torch.Size([832, 110])\n",
      "torch.Size([1, 110]) torch.Size([1, 110])\n",
      "torch.Size([4, 110]) torch.Size([4, 110])\n",
      "torch.Size([20, 110]) torch.Size([20, 110])\n",
      "torch.Size([1, 110]) torch.Size([1, 110])\n",
      "torch.Size([41, 110]) torch.Size([41, 110])\n",
      "torch.Size([1, 110]) torch.Size([1, 110])\n",
      "torch.Size([832, 110]) torch.Size([832, 110])\n",
      "torch.Size([832, 110]) torch.Size([832, 110])\n",
      "torch.Size([832, 110]) torch.Size([832, 110])\n",
      "torch.Size([832, 110]) torch.Size([832, 110])\n",
      "torch.Size([2, 110]) torch.Size([2, 110])\n",
      "torch.Size([832, 110]) torch.Size([832, 110])\n",
      "torch.Size([48, 110]) torch.Size([48, 110])\n",
      "torch.Size([832, 110]) torch.Size([832, 110])\n",
      "torch.Size([262, 110]) torch.Size([262, 110])\n",
      "torch.Size([3, 110]) torch.Size([3, 110])\n",
      "torch.Size([9, 110]) torch.Size([9, 110])\n",
      "torch.Size([832, 110]) torch.Size([832, 110])\n",
      "torch.Size([832, 110]) torch.Size([832, 110])\n",
      "torch.Size([832, 110]) torch.Size([832, 110])\n",
      "torch.Size([1, 110]) torch.Size([1, 110])\n",
      "torch.Size([832, 110]) torch.Size([832, 110])\n",
      "torch.Size([832, 110]) torch.Size([832, 110])\n",
      "torch.Size([832, 110]) torch.Size([832, 110])\n",
      "torch.Size([3, 110]) torch.Size([3, 110])\n",
      "torch.Size([2, 110]) torch.Size([2, 110])\n",
      "torch.Size([1, 110]) torch.Size([1, 110])\n",
      "torch.Size([1, 110]) torch.Size([1, 110])\n",
      "torch.Size([832, 110]) torch.Size([832, 110])\n",
      "torch.Size([2, 110]) torch.Size([2, 110])\n",
      "torch.Size([832, 110]) torch.Size([832, 110])\n",
      "torch.Size([832, 110]) torch.Size([832, 110])\n"
     ]
    },
    {
     "name": "stderr",
     "output_type": "stream",
     "text": [
      " 76%|███████▌  | 69/91 [00:00<00:00, 224.95it/s]"
     ]
    },
    {
     "name": "stdout",
     "output_type": "stream",
     "text": [
      "torch.Size([832, 110]) torch.Size([832, 110])\n",
      "torch.Size([500, 110]) torch.Size([500, 110])\n",
      "torch.Size([4, 110]) torch.Size([4, 110])\n",
      "torch.Size([832, 110]) torch.Size([832, 110])\n",
      "torch.Size([4, 110]) torch.Size([4, 110])\n",
      "torch.Size([36, 110]) torch.Size([36, 110])\n",
      "torch.Size([18, 110]) torch.Size([18, 110])\n",
      "torch.Size([832, 110]) torch.Size([832, 110])\n",
      "torch.Size([2, 110]) torch.Size([2, 110])\n",
      "torch.Size([832, 110]) torch.Size([832, 110])\n",
      "torch.Size([832, 110]) torch.Size([832, 110])\n",
      "torch.Size([832, 110]) torch.Size([832, 110])\n",
      "torch.Size([1, 110]) torch.Size([1, 110])\n",
      "torch.Size([1, 110]) torch.Size([1, 110])\n",
      "torch.Size([832, 110]) torch.Size([832, 110])\n",
      "torch.Size([1, 110]) torch.Size([1, 110])\n",
      "torch.Size([832, 110]) torch.Size([832, 110])\n",
      "torch.Size([832, 110]) torch.Size([832, 110])\n",
      "torch.Size([693, 110]) torch.Size([693, 110])\n",
      "torch.Size([1, 110]) torch.Size([1, 110])\n",
      "torch.Size([5, 110]) torch.Size([5, 110])\n",
      "torch.Size([832, 110]) torch.Size([832, 110])\n",
      "torch.Size([832, 110]) torch.Size([832, 110])\n",
      "torch.Size([1, 110]) torch.Size([1, 110])\n",
      "torch.Size([1, 110]) torch.Size([1, 110])\n",
      "torch.Size([832, 110]) torch.Size([832, 110])\n",
      "torch.Size([832, 110]) torch.Size([832, 110])\n",
      "torch.Size([832, 110]) torch.Size([832, 110])\n",
      "torch.Size([2, 110]) torch.Size([2, 110])\n",
      "torch.Size([1, 110]) torch.Size([1, 110])\n",
      "torch.Size([832, 110]) torch.Size([832, 110])\n",
      "torch.Size([2, 110]) torch.Size([2, 110])\n",
      "torch.Size([1, 110]) torch.Size([1, 110])\n",
      "torch.Size([832, 110]) torch.Size([832, 110])\n",
      "torch.Size([832, 110]) torch.Size([832, 110])\n",
      "torch.Size([1, 110]) torch.Size([1, 110])\n",
      "torch.Size([832, 110]) torch.Size([832, 110])\n",
      "torch.Size([1, 110]) torch.Size([1, 110])\n",
      "torch.Size([2, 110]) torch.Size([2, 110])\n",
      "torch.Size([832, 110]) torch.Size([832, 110])\n",
      "torch.Size([832, 110]) torch.Size([832, 110])\n",
      "torch.Size([2, 110]) torch.Size([2, 110])\n",
      "torch.Size([1, 110]) torch.Size([1, 110])\n",
      "torch.Size([5, 110]) torch.Size([5, 110])\n",
      "torch.Size([2, 110]) torch.Size([2, 110])\n",
      "torch.Size([110, 110]) torch.Size([110, 110])\n"
     ]
    },
    {
     "name": "stderr",
     "output_type": "stream",
     "text": [
      "100%|██████████| 91/91 [00:00<00:00, 221.98it/s]\n"
     ]
    },
    {
     "name": "stdout",
     "output_type": "stream",
     "text": [
      "torch.Size([2, 110]) torch.Size([2, 110])\n"
     ]
    },
    {
     "name": "stderr",
     "output_type": "stream",
     "text": [
      "100%|██████████| 22/22 [00:00<00:00, 187.17it/s]\n",
      "  0%|          | 0/366 [00:00<?, ?it/s]"
     ]
    },
    {
     "name": "stdout",
     "output_type": "stream",
     "text": [
      "torch.Size([5, 110]) torch.Size([5, 110])\n",
      "torch.Size([1, 110]) torch.Size([1, 110])\n",
      "torch.Size([4, 110]) torch.Size([4, 110])\n",
      "torch.Size([2048, 110]) torch.Size([2048, 110])\n",
      "torch.Size([1, 110]) torch.Size([1, 110])\n",
      "torch.Size([2048, 110]) torch.Size([2048, 110])\n",
      "torch.Size([1878, 110]) torch.Size([1878, 110])\n",
      "torch.Size([304, 110]) torch.Size([304, 110])\n",
      "torch.Size([3, 110]) torch.Size([3, 110])\n",
      "torch.Size([2048, 110]) torch.Size([2048, 110])\n",
      "torch.Size([2048, 110]) torch.Size([2048, 110])\n",
      "torch.Size([2048, 110]) torch.Size([2048, 110])\n",
      "torch.Size([1, 110]) torch.Size([1, 110])\n",
      "torch.Size([28, 110]) torch.Size([28, 110])\n",
      "torch.Size([1, 110]) torch.Size([1, 110])\n",
      "torch.Size([5, 110]) torch.Size([5, 110])\n",
      "torch.Size([1406, 110]) torch.Size([1406, 110])\n",
      "torch.Size([7, 110]) torch.Size([7, 110])\n",
      "torch.Size([1, 110]) torch.Size([1, 110])\n",
      "torch.Size([54, 110]) torch.Size([54, 110])\n",
      "torch.Size([83, 110]) torch.Size([83, 110])\n",
      "torch.Size([139, 110]) torch.Size([139, 110])\n",
      "torch.Size([1, 110]) torch.Size([1, 110])\n",
      "torch.Size([832, 110]) torch.Size([832, 110])\n"
     ]
    },
    {
     "name": "stderr",
     "output_type": "stream",
     "text": [
      " 13%|█▎        | 47/366 [00:00<00:01, 230.42it/s]"
     ]
    },
    {
     "name": "stdout",
     "output_type": "stream",
     "text": [
      "torch.Size([1, 110]) torch.Size([1, 110])\n",
      "torch.Size([3, 110]) torch.Size([3, 110])\n",
      "torch.Size([832, 110]) torch.Size([832, 110])\n",
      "torch.Size([832, 110]) torch.Size([832, 110])\n",
      "torch.Size([1, 110]) torch.Size([1, 110])\n",
      "torch.Size([832, 110]) torch.Size([832, 110])\n",
      "torch.Size([832, 110]) torch.Size([832, 110])\n",
      "torch.Size([832, 110]) torch.Size([832, 110])\n",
      "torch.Size([2, 110]) torch.Size([2, 110])\n",
      "torch.Size([12, 110]) torch.Size([12, 110])\n",
      "torch.Size([49, 110]) torch.Size([49, 110])\n",
      "torch.Size([5, 110]) torch.Size([5, 110])\n",
      "torch.Size([832, 110]) torch.Size([832, 110])\n",
      "torch.Size([10, 110]) torch.Size([10, 110])\n",
      "torch.Size([832, 110]) torch.Size([832, 110])\n",
      "torch.Size([2, 110]) torch.Size([2, 110])\n",
      "torch.Size([31, 110]) torch.Size([31, 110])\n",
      "torch.Size([832, 110]) torch.Size([832, 110])\n",
      "torch.Size([1, 110]) torch.Size([1, 110])\n",
      "torch.Size([832, 110]) torch.Size([832, 110])\n",
      "torch.Size([263, 110]) torch.Size([263, 110])\n",
      "torch.Size([832, 110]) torch.Size([832, 110])\n",
      "torch.Size([2, 110]) torch.Size([2, 110])\n",
      "torch.Size([832, 110]) torch.Size([832, 110])\n",
      "torch.Size([15, 110]) torch.Size([15, 110])\n",
      "torch.Size([832, 110]) torch.Size([832, 110])\n",
      "torch.Size([832, 110]) torch.Size([832, 110])\n",
      "torch.Size([832, 110]) torch.Size([832, 110])\n",
      "torch.Size([33, 110]) torch.Size([33, 110])\n",
      "torch.Size([25, 110]) torch.Size([25, 110])\n",
      "torch.Size([832, 110]) torch.Size([832, 110])\n",
      "torch.Size([13, 110]) torch.Size([13, 110])\n",
      "torch.Size([1, 110]) torch.Size([1, 110])\n",
      "torch.Size([2, 110]) torch.Size([2, 110])\n",
      "torch.Size([832, 110]) torch.Size([832, 110])\n",
      "torch.Size([1, 110]) torch.Size([1, 110])\n",
      "torch.Size([1, 110]) torch.Size([1, 110])\n",
      "torch.Size([474, 110]) torch.Size([474, 110])\n",
      "torch.Size([832, 110]) torch.Size([832, 110])\n",
      "torch.Size([832, 110]) torch.Size([832, 110])\n",
      "torch.Size([832, 110]) torch.Size([832, 110])\n",
      "torch.Size([2, 110]) torch.Size([2, 110])\n",
      "torch.Size([1, 110]) torch.Size([1, 110])\n",
      "torch.Size([3, 110]) torch.Size([3, 110])\n",
      "torch.Size([1, 110]) torch.Size([1, 110])\n",
      "torch.Size([1, 110]) torch.Size([1, 110])\n",
      "torch.Size([1, 110]) torch.Size([1, 110])\n"
     ]
    },
    {
     "name": "stderr",
     "output_type": "stream",
     "text": [
      " 20%|█▉        | 72/366 [00:00<00:01, 234.16it/s]"
     ]
    },
    {
     "name": "stdout",
     "output_type": "stream",
     "text": [
      "torch.Size([1, 110]) torch.Size([1, 110])\n",
      "torch.Size([6, 110]) torch.Size([6, 110])\n",
      "torch.Size([1, 110]) torch.Size([1, 110])\n",
      "torch.Size([1, 110]) torch.Size([1, 110])\n",
      "torch.Size([3, 110]) torch.Size([3, 110])\n",
      "torch.Size([628, 110]) torch.Size([628, 110])\n",
      "torch.Size([832, 110]) torch.Size([832, 110])\n",
      "torch.Size([112, 110]) torch.Size([112, 110])\n",
      "torch.Size([832, 110]) torch.Size([832, 110])\n",
      "torch.Size([832, 110]) torch.Size([832, 110])\n",
      "torch.Size([2, 110]) torch.Size([2, 110])\n",
      "torch.Size([832, 110]) torch.Size([832, 110])\n",
      "torch.Size([832, 110]) torch.Size([832, 110])\n",
      "torch.Size([628, 110]) torch.Size([628, 110])\n",
      "torch.Size([832, 110]) torch.Size([832, 110])\n",
      "torch.Size([21, 110]) torch.Size([21, 110])\n",
      "torch.Size([4, 110]) torch.Size([4, 110])\n",
      "torch.Size([1, 110]) torch.Size([1, 110])\n",
      "torch.Size([5, 110]) torch.Size([5, 110])\n",
      "torch.Size([832, 110]) torch.Size([832, 110])\n",
      "torch.Size([1, 110]) torch.Size([1, 110])\n",
      "torch.Size([757, 110]) torch.Size([757, 110])\n",
      "torch.Size([832, 110]) torch.Size([832, 110])\n",
      "torch.Size([1, 110]) torch.Size([1, 110])\n",
      "torch.Size([832, 110]) torch.Size([832, 110])\n",
      "torch.Size([1, 110]) torch.Size([1, 110])\n",
      "torch.Size([363, 110]) torch.Size([363, 110])\n",
      "torch.Size([832, 110]) torch.Size([832, 110])\n",
      "torch.Size([832, 110]) torch.Size([832, 110])\n",
      "torch.Size([832, 110]) torch.Size([832, 110])\n",
      "torch.Size([832, 110]) torch.Size([832, 110])\n",
      "torch.Size([1, 110]) torch.Size([1, 110])\n",
      "torch.Size([832, 110]) torch.Size([832, 110])\n",
      "torch.Size([832, 110]) torch.Size([832, 110])\n",
      "torch.Size([832, 110]) torch.Size([832, 110])\n",
      "torch.Size([1, 110]) torch.Size([1, 110])\n",
      "torch.Size([832, 110]) torch.Size([832, 110])\n",
      "torch.Size([3, 110]) torch.Size([3, 110])\n",
      "torch.Size([5, 110]) torch.Size([5, 110])\n",
      "torch.Size([1, 110]) torch.Size([1, 110])\n",
      "torch.Size([832, 110]) torch.Size([832, 110])\n",
      "torch.Size([2, 110]) torch.Size([2, 110])\n",
      "torch.Size([10, 110]) torch.Size([10, 110])\n",
      "torch.Size([832, 110]) torch.Size([832, 110])\n",
      "torch.Size([832, 110]) torch.Size([832, 110])\n",
      "torch.Size([1, 110]) torch.Size([1, 110])\n",
      "torch.Size([832, 110]) torch.Size([832, 110])\n"
     ]
    },
    {
     "name": "stderr",
     "output_type": "stream",
     "text": [
      " 33%|███▎      | 121/366 [00:00<00:01, 235.17it/s]"
     ]
    },
    {
     "name": "stdout",
     "output_type": "stream",
     "text": [
      "torch.Size([832, 110]) torch.Size([832, 110])\n",
      "torch.Size([832, 110]) torch.Size([832, 110])\n",
      "torch.Size([832, 110]) torch.Size([832, 110])\n",
      "torch.Size([2, 110]) torch.Size([2, 110])\n",
      "torch.Size([7, 110]) torch.Size([7, 110])\n",
      "torch.Size([832, 110]) torch.Size([832, 110])\n",
      "torch.Size([832, 110]) torch.Size([832, 110])\n",
      "torch.Size([832, 110]) torch.Size([832, 110])\n",
      "torch.Size([1, 110]) torch.Size([1, 110])\n",
      "torch.Size([832, 110]) torch.Size([832, 110])\n",
      "torch.Size([832, 110]) torch.Size([832, 110])\n",
      "torch.Size([832, 110]) torch.Size([832, 110])\n",
      "torch.Size([832, 110]) torch.Size([832, 110])\n",
      "torch.Size([5, 110]) torch.Size([5, 110])\n",
      "torch.Size([23, 110]) torch.Size([23, 110])\n",
      "torch.Size([2, 110]) torch.Size([2, 110])\n",
      "torch.Size([832, 110]) torch.Size([832, 110])\n",
      "torch.Size([1, 110]) torch.Size([1, 110])\n",
      "torch.Size([1, 110]) torch.Size([1, 110])\n",
      "torch.Size([1, 110]) torch.Size([1, 110])\n",
      "torch.Size([85, 110]) torch.Size([85, 110])\n",
      "torch.Size([60, 110]) torch.Size([60, 110])\n",
      "torch.Size([1, 110]) torch.Size([1, 110])\n",
      "torch.Size([1, 110]) torch.Size([1, 110])\n",
      "torch.Size([1, 110]) torch.Size([1, 110])\n",
      "torch.Size([285, 110]) torch.Size([285, 110])\n",
      "torch.Size([9, 110]) torch.Size([9, 110])\n",
      "torch.Size([6, 110]) torch.Size([6, 110])\n",
      "torch.Size([5, 110]) torch.Size([5, 110])\n",
      "torch.Size([6, 110]) torch.Size([6, 110])\n",
      "torch.Size([832, 110]) torch.Size([832, 110])\n",
      "torch.Size([832, 110]) torch.Size([832, 110])\n",
      "torch.Size([1, 110]) torch.Size([1, 110])\n",
      "torch.Size([2, 110]) torch.Size([2, 110])\n",
      "torch.Size([832, 110]) torch.Size([832, 110])\n",
      "torch.Size([832, 110]) torch.Size([832, 110])\n",
      "torch.Size([284, 110]) torch.Size([284, 110])\n",
      "torch.Size([6, 110]) torch.Size([6, 110])\n",
      "torch.Size([832, 110]) torch.Size([832, 110])\n",
      "torch.Size([1, 110]) torch.Size([1, 110])\n",
      "torch.Size([832, 110]) torch.Size([832, 110])\n",
      "torch.Size([832, 110]) torch.Size([832, 110])\n",
      "torch.Size([832, 110]) torch.Size([832, 110])\n",
      "torch.Size([832, 110]) torch.Size([832, 110])\n",
      "torch.Size([832, 110]) torch.Size([832, 110])\n",
      "torch.Size([832, 110]) torch.Size([832, 110])\n",
      "torch.Size([832, 110]) torch.Size([832, 110])\n",
      "torch.Size([832, 110]) torch.Size([832, 110])\n"
     ]
    },
    {
     "name": "stderr",
     "output_type": "stream",
     "text": [
      " 46%|████▌     | 168/366 [00:00<00:00, 226.55it/s]"
     ]
    },
    {
     "name": "stdout",
     "output_type": "stream",
     "text": [
      "torch.Size([1, 110]) torch.Size([1, 110])\n",
      "torch.Size([1, 110]) torch.Size([1, 110])\n",
      "torch.Size([832, 110]) torch.Size([832, 110])\n",
      "torch.Size([1, 110]) torch.Size([1, 110])\n",
      "torch.Size([12, 110]) torch.Size([12, 110])\n",
      "torch.Size([832, 110]) torch.Size([832, 110])\n",
      "torch.Size([832, 110]) torch.Size([832, 110])\n",
      "torch.Size([276, 110]) torch.Size([276, 110])\n",
      "torch.Size([832, 110]) torch.Size([832, 110])\n",
      "torch.Size([832, 110]) torch.Size([832, 110])\n",
      "torch.Size([832, 110]) torch.Size([832, 110])\n",
      "torch.Size([832, 110]) torch.Size([832, 110])\n",
      "torch.Size([41, 110]) torch.Size([41, 110])\n",
      "torch.Size([1, 110]) torch.Size([1, 110])\n",
      "torch.Size([832, 110]) torch.Size([832, 110])\n",
      "torch.Size([1, 110]) torch.Size([1, 110])\n",
      "torch.Size([12, 110]) torch.Size([12, 110])\n",
      "torch.Size([832, 110]) torch.Size([832, 110])\n",
      "torch.Size([8, 110]) torch.Size([8, 110])\n",
      "torch.Size([2, 110]) torch.Size([2, 110])\n",
      "torch.Size([5, 110]) torch.Size([5, 110])\n",
      "torch.Size([2, 110]) torch.Size([2, 110])\n",
      "torch.Size([832, 110]) torch.Size([832, 110])\n",
      "torch.Size([832, 110]) torch.Size([832, 110])\n",
      "torch.Size([832, 110]) torch.Size([832, 110])\n",
      "torch.Size([118, 110]) torch.Size([118, 110])\n",
      "torch.Size([832, 110]) torch.Size([832, 110])\n",
      "torch.Size([260, 110]) torch.Size([260, 110])\n",
      "torch.Size([312, 110]) torch.Size([312, 110])\n",
      "torch.Size([832, 110]) torch.Size([832, 110])\n",
      "torch.Size([832, 110]) torch.Size([832, 110])\n",
      "torch.Size([25, 110]) torch.Size([25, 110])\n",
      "torch.Size([832, 110]) torch.Size([832, 110])\n",
      "torch.Size([3, 110]) torch.Size([3, 110])\n",
      "torch.Size([832, 110]) torch.Size([832, 110])\n",
      "torch.Size([9, 110]) torch.Size([9, 110])\n",
      "torch.Size([2, 110]) torch.Size([2, 110])\n",
      "torch.Size([832, 110]) torch.Size([832, 110])\n",
      "torch.Size([1, 110]) torch.Size([1, 110])\n",
      "torch.Size([832, 110]) torch.Size([832, 110])\n",
      "torch.Size([832, 110]) torch.Size([832, 110])\n",
      "torch.Size([3, 110]) torch.Size([3, 110])\n",
      "torch.Size([832, 110]) torch.Size([832, 110])\n",
      "torch.Size([3, 110]) torch.Size([3, 110])\n",
      "torch.Size([4, 110]) torch.Size([4, 110])\n"
     ]
    },
    {
     "name": "stderr",
     "output_type": "stream",
     "text": [
      " 58%|█████▊    | 214/366 [00:00<00:00, 225.98it/s]"
     ]
    },
    {
     "name": "stdout",
     "output_type": "stream",
     "text": [
      "torch.Size([11, 110]) torch.Size([11, 110])\n",
      "torch.Size([1, 110]) torch.Size([1, 110])\n",
      "torch.Size([2, 110]) torch.Size([2, 110])\n",
      "torch.Size([832, 110]) torch.Size([832, 110])\n",
      "torch.Size([832, 110]) torch.Size([832, 110])\n",
      "torch.Size([1, 110]) torch.Size([1, 110])\n",
      "torch.Size([4, 110]) torch.Size([4, 110])\n",
      "torch.Size([3, 110]) torch.Size([3, 110])\n",
      "torch.Size([1, 110]) torch.Size([1, 110])\n",
      "torch.Size([44, 110]) torch.Size([44, 110])\n",
      "torch.Size([832, 110]) torch.Size([832, 110])\n",
      "torch.Size([832, 110]) torch.Size([832, 110])\n",
      "torch.Size([832, 110]) torch.Size([832, 110])\n",
      "torch.Size([33, 110]) torch.Size([33, 110])\n",
      "torch.Size([832, 110]) torch.Size([832, 110])\n",
      "torch.Size([832, 110]) torch.Size([832, 110])\n",
      "torch.Size([832, 110]) torch.Size([832, 110])\n",
      "torch.Size([832, 110]) torch.Size([832, 110])\n",
      "torch.Size([832, 110]) torch.Size([832, 110])\n",
      "torch.Size([832, 110]) torch.Size([832, 110])\n",
      "torch.Size([77, 110]) torch.Size([77, 110])\n",
      "torch.Size([832, 110]) torch.Size([832, 110])\n",
      "torch.Size([2, 110]) torch.Size([2, 110])\n",
      "torch.Size([4, 110]) torch.Size([4, 110])\n",
      "torch.Size([2, 110]) torch.Size([2, 110])\n",
      "torch.Size([832, 110]) torch.Size([832, 110])\n",
      "torch.Size([1, 110]) torch.Size([1, 110])\n",
      "torch.Size([1, 110]) torch.Size([1, 110])\n",
      "torch.Size([1, 110]) torch.Size([1, 110])\n",
      "torch.Size([832, 110]) torch.Size([832, 110])\n",
      "torch.Size([1, 110]) torch.Size([1, 110])\n",
      "torch.Size([832, 110]) torch.Size([832, 110])\n",
      "torch.Size([832, 110]) torch.Size([832, 110])\n",
      "torch.Size([48, 110]) torch.Size([48, 110])\n",
      "torch.Size([818, 110]) torch.Size([818, 110])\n",
      "torch.Size([832, 110]) torch.Size([832, 110])\n",
      "torch.Size([19, 110]) torch.Size([19, 110])\n",
      "torch.Size([832, 110]) torch.Size([832, 110])\n",
      "torch.Size([14, 110]) torch.Size([14, 110])\n",
      "torch.Size([832, 110]) torch.Size([832, 110])\n",
      "torch.Size([832, 110]) torch.Size([832, 110])\n",
      "torch.Size([832, 110]) torch.Size([832, 110])\n",
      "torch.Size([1, 110]) torch.Size([1, 110])\n",
      "torch.Size([1, 110]) torch.Size([1, 110])\n",
      "torch.Size([832, 110]) torch.Size([832, 110])\n",
      "torch.Size([1, 110]) torch.Size([1, 110])\n",
      "torch.Size([1, 110]) torch.Size([1, 110])\n"
     ]
    },
    {
     "name": "stderr",
     "output_type": "stream",
     "text": [
      " 71%|███████▏  | 261/366 [00:01<00:00, 227.14it/s]"
     ]
    },
    {
     "name": "stdout",
     "output_type": "stream",
     "text": [
      "torch.Size([2, 110]) torch.Size([2, 110])\n",
      "torch.Size([832, 110]) torch.Size([832, 110])\n",
      "torch.Size([2, 110]) torch.Size([2, 110])\n",
      "torch.Size([832, 110]) torch.Size([832, 110])\n",
      "torch.Size([832, 110]) torch.Size([832, 110])\n",
      "torch.Size([17, 110]) torch.Size([17, 110])\n",
      "torch.Size([832, 110]) torch.Size([832, 110])\n",
      "torch.Size([832, 110]) torch.Size([832, 110])\n",
      "torch.Size([5, 110]) torch.Size([5, 110])\n",
      "torch.Size([832, 110]) torch.Size([832, 110])\n",
      "torch.Size([832, 110]) torch.Size([832, 110])\n",
      "torch.Size([832, 110]) torch.Size([832, 110])\n",
      "torch.Size([832, 110]) torch.Size([832, 110])\n",
      "torch.Size([1, 110]) torch.Size([1, 110])\n",
      "torch.Size([28, 110]) torch.Size([28, 110])\n",
      "torch.Size([569, 110]) torch.Size([569, 110])\n",
      "torch.Size([6, 110]) torch.Size([6, 110])\n",
      "torch.Size([1, 110]) torch.Size([1, 110])\n",
      "torch.Size([1, 110]) torch.Size([1, 110])\n",
      "torch.Size([832, 110]) torch.Size([832, 110])\n",
      "torch.Size([2, 110]) torch.Size([2, 110])\n",
      "torch.Size([660, 110]) torch.Size([660, 110])\n",
      "torch.Size([1, 110]) torch.Size([1, 110])\n",
      "torch.Size([832, 110]) torch.Size([832, 110])\n",
      "torch.Size([5, 110]) torch.Size([5, 110])\n",
      "torch.Size([832, 110]) torch.Size([832, 110])\n",
      "torch.Size([217, 110]) torch.Size([217, 110])\n",
      "torch.Size([2, 110]) torch.Size([2, 110])\n",
      "torch.Size([832, 110]) torch.Size([832, 110])\n",
      "torch.Size([832, 110]) torch.Size([832, 110])\n",
      "torch.Size([832, 110]) torch.Size([832, 110])\n",
      "torch.Size([832, 110]) torch.Size([832, 110])\n",
      "torch.Size([1, 110]) torch.Size([1, 110])\n",
      "torch.Size([9, 110]) torch.Size([9, 110])\n",
      "torch.Size([832, 110]) torch.Size([832, 110])\n",
      "torch.Size([1, 110]) torch.Size([1, 110])\n",
      "torch.Size([832, 110]) torch.Size([832, 110])\n",
      "torch.Size([832, 110]) torch.Size([832, 110])\n",
      "torch.Size([832, 110]) torch.Size([832, 110])\n",
      "torch.Size([832, 110]) torch.Size([832, 110])\n",
      "torch.Size([18, 110]) torch.Size([18, 110])\n",
      "torch.Size([832, 110]) torch.Size([832, 110])\n",
      "torch.Size([4, 110]) torch.Size([4, 110])\n",
      "torch.Size([4, 110]) torch.Size([4, 110])\n",
      "torch.Size([3, 110]) torch.Size([3, 110])\n",
      "torch.Size([9, 110]) torch.Size([9, 110])\n"
     ]
    },
    {
     "name": "stderr",
     "output_type": "stream",
     "text": [
      " 84%|████████▍ | 308/366 [00:01<00:00, 230.61it/s]"
     ]
    },
    {
     "name": "stdout",
     "output_type": "stream",
     "text": [
      "torch.Size([2, 110]) torch.Size([2, 110])\n",
      "torch.Size([832, 110]) torch.Size([832, 110])\n",
      "torch.Size([832, 110]) torch.Size([832, 110])\n",
      "torch.Size([832, 110]) torch.Size([832, 110])\n",
      "torch.Size([832, 110]) torch.Size([832, 110])\n",
      "torch.Size([63, 110]) torch.Size([63, 110])\n",
      "torch.Size([832, 110]) torch.Size([832, 110])\n",
      "torch.Size([832, 110]) torch.Size([832, 110])\n",
      "torch.Size([7, 110]) torch.Size([7, 110])\n",
      "torch.Size([32, 110]) torch.Size([32, 110])\n",
      "torch.Size([832, 110]) torch.Size([832, 110])\n",
      "torch.Size([832, 110]) torch.Size([832, 110])\n",
      "torch.Size([832, 110]) torch.Size([832, 110])\n",
      "torch.Size([832, 110]) torch.Size([832, 110])\n",
      "torch.Size([24, 110]) torch.Size([24, 110])\n",
      "torch.Size([1, 110]) torch.Size([1, 110])\n",
      "torch.Size([2, 110]) torch.Size([2, 110])\n",
      "torch.Size([2, 110]) torch.Size([2, 110])\n",
      "torch.Size([1, 110]) torch.Size([1, 110])\n",
      "torch.Size([4, 110]) torch.Size([4, 110])\n",
      "torch.Size([1, 110]) torch.Size([1, 110])\n",
      "torch.Size([832, 110]) torch.Size([832, 110])\n",
      "torch.Size([1, 110]) torch.Size([1, 110])\n",
      "torch.Size([47, 110]) torch.Size([47, 110])\n",
      "torch.Size([1, 110]) torch.Size([1, 110])\n",
      "torch.Size([832, 110]) torch.Size([832, 110])\n",
      "torch.Size([832, 110]) torch.Size([832, 110])\n",
      "torch.Size([832, 110]) torch.Size([832, 110])\n",
      "torch.Size([17, 110]) torch.Size([17, 110])\n",
      "torch.Size([1, 110]) torch.Size([1, 110])\n",
      "torch.Size([1, 110]) torch.Size([1, 110])\n",
      "torch.Size([3, 110]) torch.Size([3, 110])\n",
      "torch.Size([130, 110]) torch.Size([130, 110])\n",
      "torch.Size([1, 110]) torch.Size([1, 110])\n",
      "torch.Size([832, 110]) torch.Size([832, 110])\n",
      "torch.Size([832, 110]) torch.Size([832, 110])\n",
      "torch.Size([1, 110]) torch.Size([1, 110])\n",
      "torch.Size([832, 110]) torch.Size([832, 110])\n",
      "torch.Size([3, 110]) torch.Size([3, 110])\n",
      "torch.Size([30, 110]) torch.Size([30, 110])\n",
      "torch.Size([832, 110]) torch.Size([832, 110])\n",
      "torch.Size([1, 110]) torch.Size([1, 110])\n",
      "torch.Size([832, 110]) torch.Size([832, 110])\n",
      "torch.Size([832, 110]) torch.Size([832, 110])\n",
      "torch.Size([125, 110]) torch.Size([125, 110])\n",
      "torch.Size([832, 110]) torch.Size([832, 110])\n",
      "torch.Size([832, 110]) torch.Size([832, 110])\n"
     ]
    },
    {
     "name": "stderr",
     "output_type": "stream",
     "text": [
      "100%|██████████| 366/366 [00:01<00:00, 230.06it/s]"
     ]
    },
    {
     "name": "stdout",
     "output_type": "stream",
     "text": [
      "torch.Size([832, 110]) torch.Size([832, 110])\n",
      "torch.Size([832, 110]) torch.Size([832, 110])\n",
      "torch.Size([1, 110]) torch.Size([1, 110])\n",
      "torch.Size([1, 110]) torch.Size([1, 110])\n",
      "torch.Size([832, 110]) torch.Size([832, 110])\n",
      "torch.Size([5, 110]) torch.Size([5, 110])\n",
      "torch.Size([2, 110]) torch.Size([2, 110])\n",
      "torch.Size([832, 110]) torch.Size([832, 110])\n",
      "torch.Size([832, 110]) torch.Size([832, 110])\n",
      "torch.Size([832, 110]) torch.Size([832, 110])\n",
      "torch.Size([832, 110]) torch.Size([832, 110])\n",
      "torch.Size([9, 110]) torch.Size([9, 110])\n",
      "torch.Size([1, 110]) torch.Size([1, 110])\n",
      "torch.Size([355, 110]) torch.Size([355, 110])\n",
      "torch.Size([1, 110]) torch.Size([1, 110])\n",
      "torch.Size([136, 110]) torch.Size([136, 110])\n",
      "torch.Size([1, 110]) torch.Size([1, 110])\n",
      "torch.Size([2, 110]) torch.Size([2, 110])\n",
      "torch.Size([86, 110]) torch.Size([86, 110])\n",
      "torch.Size([6, 110]) torch.Size([6, 110])\n",
      "torch.Size([832, 110]) torch.Size([832, 110])\n",
      "torch.Size([1, 110]) torch.Size([1, 110])\n",
      "torch.Size([1, 110]) torch.Size([1, 110])\n",
      "torch.Size([4, 110]) torch.Size([4, 110])\n",
      "torch.Size([1, 110]) torch.Size([1, 110])\n",
      "torch.Size([832, 110]) torch.Size([832, 110])\n",
      "torch.Size([832, 110]) torch.Size([832, 110])\n",
      "torch.Size([3, 110]) torch.Size([3, 110])\n",
      "torch.Size([832, 110]) torch.Size([832, 110])\n",
      "torch.Size([258, 110]) torch.Size([258, 110])\n",
      "torch.Size([9, 110]) torch.Size([9, 110])\n",
      "torch.Size([6, 110]) torch.Size([6, 110])\n",
      "torch.Size([1, 110]) torch.Size([1, 110])\n",
      "torch.Size([832, 110]) torch.Size([832, 110])\n",
      "torch.Size([832, 110]) torch.Size([832, 110])\n",
      "torch.Size([54, 110]) torch.Size([54, 110])\n",
      "torch.Size([832, 110]) torch.Size([832, 110])\n"
     ]
    },
    {
     "name": "stderr",
     "output_type": "stream",
     "text": [
      "\n"
     ]
    }
   ],
   "source": [
    "#get results of the model on the datasets previously loaded\n",
    "%run utils_k-best.py\n",
    "val_df = get_results_df(train_val_dataset, val_bl, val_indices, model)\n",
    "test_df = get_results_df(test_dataset, test_bl, test_indices, model)\n",
    "train_df = get_results_df(train_val_dataset, train_bl, train_indices, model)"
   ]
  },
  {
   "cell_type": "code",
   "execution_count": 37,
   "metadata": {},
   "outputs": [
    {
     "name": "stdout",
     "output_type": "stream",
     "text": [
      "train (80.80645926046344, 92.9419574214437, 95.52268124335345, 96.80626960096997) val (75.54317548746519, 90.89003846664014, 94.75261971083698, 96.67064597426715) test (80.55928253654403, 94.88736671139044, 97.37306687380834, 98.20634136007345)\n"
     ]
    }
   ],
   "source": [
    "#print the accuracies of the model on each dataset.\n",
    "print( \"train\", accuracy(train_df), \"val\", accuracy(val_df), \"test\", accuracy(test_df) )"
   ]
  },
  {
   "cell_type": "code",
   "execution_count": 44,
   "metadata": {},
   "outputs": [
    {
     "name": "stderr",
     "output_type": "stream",
     "text": [
      "100%|██████████| 30/30 [00:00<00:00, 348.33it/s]\n",
      "100%|██████████| 3/3 [00:00<00:00, 479.57it/s]"
     ]
    },
    {
     "name": "stdout",
     "output_type": "stream",
     "text": [
      "Number of batches 3\n",
      "Data loaded\n",
      "Sizes: (3, 0) batches\n",
      "torch.Size([10, 110]) torch.Size([10, 110])\n",
      "torch.Size([16, 110]) torch.Size([16, 110])\n",
      "torch.Size([4, 110]) torch.Size([4, 110])\n"
     ]
    },
    {
     "name": "stderr",
     "output_type": "stream",
     "text": [
      "\n"
     ]
    }
   ],
   "source": [
    "%run utils_k-best.py\n",
    "\n",
    "# single computations 'real' benchmark\n",
    "benchmark_dataset_file = '/data/mm12191/datasets/benchmarks_ds2.json'\n",
    "bench_ds, bench_bl, bench_indices, _, _ = load_merge_data(None, benchmark_dataset_file, 1, filter_func_MC=filter_schedule_MC, filter_func_SC=filter_schedule_SC)\n",
    "bench_df = get_results_df(bench_ds, bench_bl, bench_indices, model)"
   ]
  },
  {
   "cell_type": "markdown",
   "metadata": {},
   "source": [
    "bench_df"
   ]
  },
  {
   "cell_type": "code",
   "execution_count": 45,
   "metadata": {},
   "outputs": [
    {
     "data": {
      "text/plain": [
       "(76.66666666666667, 93.33333333333333, 100.0, 100.0)"
      ]
     },
     "execution_count": 45,
     "metadata": {},
     "output_type": "execute_result"
    }
   ],
   "source": [
    "#Accuracy on the chosen benchmark (1st shot, 2-shots, 3-shots and 5-shots (any shot))\n",
    "accuracy(bench_df) "
   ]
  },
  {
   "cell_type": "code",
   "execution_count": 41,
   "metadata": {},
   "outputs": [
    {
     "name": "stderr",
     "output_type": "stream",
     "text": [
      " 58%|█████▊    | 95/163 [00:00<00:00, 296.23it/s]"
     ]
    },
    {
     "name": "stdout",
     "output_type": "stream",
     "text": [
      "F({C0,C1},L4) function190298\n",
      "F({C1,C2},L4) function190359\n"
     ]
    },
    {
     "name": "stderr",
     "output_type": "stream",
     "text": [
      "100%|██████████| 163/163 [00:00<00:00, 313.03it/s]\n",
      "100%|██████████| 32/32 [00:00<00:00, 298.11it/s]"
     ]
    },
    {
     "name": "stdout",
     "output_type": "stream",
     "text": [
      "Number of batches 32\n",
      "Number of batches dropped due to too much memory accesses:5\n",
      "Data loaded\n",
      "Sizes: (32, 0) batches\n",
      "torch.Size([1, 110]) torch.Size([1, 110])\n",
      "torch.Size([50, 110]) torch.Size([50, 110])\n",
      "torch.Size([2, 110]) torch.Size([2, 110])\n",
      "torch.Size([1, 110]) torch.Size([1, 110])\n",
      "torch.Size([1, 110]) torch.Size([1, 110])\n",
      "torch.Size([1, 110]) torch.Size([1, 110])\n",
      "torch.Size([1, 110]) torch.Size([1, 110])\n",
      "torch.Size([2, 110]) torch.Size([2, 110])\n",
      "torch.Size([1, 110]) torch.Size([1, 110])\n",
      "torch.Size([1, 110]) torch.Size([1, 110])\n",
      "torch.Size([1, 110]) torch.Size([1, 110])\n",
      "torch.Size([1, 110]) torch.Size([1, 110])\n",
      "torch.Size([1, 110]) torch.Size([1, 110])\n",
      "torch.Size([1, 110]) torch.Size([1, 110])\n",
      "torch.Size([1, 110]) torch.Size([1, 110])\n",
      "torch.Size([1, 110]) torch.Size([1, 110])\n",
      "torch.Size([1, 110]) torch.Size([1, 110])\n",
      "torch.Size([34, 110]) torch.Size([34, 110])\n",
      "torch.Size([2, 110]) torch.Size([2, 110])\n",
      "torch.Size([1, 110]) torch.Size([1, 110])\n",
      "torch.Size([4, 110]) torch.Size([4, 110])\n",
      "torch.Size([2, 110]) torch.Size([2, 110])\n",
      "torch.Size([1, 110]) torch.Size([1, 110])\n",
      "torch.Size([3, 110]) torch.Size([3, 110])\n",
      "torch.Size([1, 110]) torch.Size([1, 110])\n",
      "torch.Size([14, 110]) torch.Size([14, 110])\n",
      "torch.Size([2, 110]) torch.Size([2, 110])\n",
      "torch.Size([1, 110]) torch.Size([1, 110])\n",
      "torch.Size([3, 110]) torch.Size([3, 110])\n",
      "torch.Size([1, 110]) torch.Size([1, 110])\n",
      "torch.Size([22, 110]) torch.Size([22, 110])\n",
      "torch.Size([1, 110]) torch.Size([1, 110])\n"
     ]
    },
    {
     "name": "stderr",
     "output_type": "stream",
     "text": [
      "\n"
     ]
    }
   ],
   "source": [
    "# #long programs synthetic test set.\n",
    "benchmark_dataset_file = '/data/mm12191/datasets/dataset_batch190201-190710.pkl'\n",
    "bench_ds, bench_bl, bench_indices, _, _ = load_merge_data(benchmark_dataset_file, None, 1, filter_func_MC=filter_schedule_MC, filter_func_SC=filter_schedule_SC)\n",
    "bench_df = get_results_df(bench_ds, bench_bl, bench_indices, model)"
   ]
  },
  {
   "cell_type": "code",
   "execution_count": 42,
   "metadata": {},
   "outputs": [
    {
     "data": {
      "text/plain": [
       "(49.375, 67.5, 73.125, 77.5)"
      ]
     },
     "execution_count": 42,
     "metadata": {},
     "output_type": "execute_result"
    }
   ],
   "source": [
    "#Accuracy on the chosen benchmark (1st shot, 2-shots, 3-shots and 5-shots (any shot))\n",
    "accuracy(bench_df) "
   ]
  },
  {
   "cell_type": "code",
   "execution_count": null,
   "metadata": {},
   "outputs": [],
   "source": []
  }
 ],
 "metadata": {
  "kernelspec": {
   "display_name": "Python 3",
   "language": "python",
   "name": "python3"
  },
  "language_info": {
   "codemirror_mode": {
    "name": "ipython",
    "version": 3
   },
   "file_extension": ".py",
   "mimetype": "text/x-python",
   "name": "python",
   "nbconvert_exporter": "python",
   "pygments_lexer": "ipython3",
   "version": "3.8.8"
  },
  "toc-autonumbering": false,
  "toc-showcode": false,
  "toc-showmarkdowntxt": false
 },
 "nbformat": 4,
 "nbformat_minor": 4
}
